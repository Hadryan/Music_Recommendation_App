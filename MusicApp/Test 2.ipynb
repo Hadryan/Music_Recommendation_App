{
 "cells": [
  {
   "cell_type": "code",
   "execution_count": 16,
   "id": "e1a025b2",
   "metadata": {
    "scrolled": true
   },
   "outputs": [
    {
     "data": {
      "text/html": [
       "<div>\n",
       "<style scoped>\n",
       "    .dataframe tbody tr th:only-of-type {\n",
       "        vertical-align: middle;\n",
       "    }\n",
       "\n",
       "    .dataframe tbody tr th {\n",
       "        vertical-align: top;\n",
       "    }\n",
       "\n",
       "    .dataframe thead th {\n",
       "        text-align: right;\n",
       "    }\n",
       "</style>\n",
       "<table border=\"1\" class=\"dataframe\">\n",
       "  <thead>\n",
       "    <tr style=\"text-align: right;\">\n",
       "      <th></th>\n",
       "      <th>Age</th>\n",
       "      <th>Gender</th>\n",
       "      <th>Happy</th>\n",
       "      <th>Gloomy</th>\n",
       "      <th>Stressed</th>\n",
       "      <th>Relaxing</th>\n",
       "      <th>Energetic</th>\n",
       "    </tr>\n",
       "  </thead>\n",
       "  <tbody>\n",
       "    <tr>\n",
       "      <th>0</th>\n",
       "      <td>32</td>\n",
       "      <td>Male</td>\n",
       "      <td>Rock</td>\n",
       "      <td>Instrumental</td>\n",
       "      <td>Instrumental</td>\n",
       "      <td>Instrumental</td>\n",
       "      <td>Rock</td>\n",
       "    </tr>\n",
       "    <tr>\n",
       "      <th>1</th>\n",
       "      <td>32</td>\n",
       "      <td>Female</td>\n",
       "      <td>Country</td>\n",
       "      <td>Instrumental</td>\n",
       "      <td>Rock</td>\n",
       "      <td>Instrumental</td>\n",
       "      <td>Instrumental</td>\n",
       "    </tr>\n",
       "    <tr>\n",
       "      <th>2</th>\n",
       "      <td>32</td>\n",
       "      <td>Female</td>\n",
       "      <td>Hiphop</td>\n",
       "      <td>Blues</td>\n",
       "      <td>Pop</td>\n",
       "      <td>Instrumental</td>\n",
       "      <td>Rock</td>\n",
       "    </tr>\n",
       "    <tr>\n",
       "      <th>3</th>\n",
       "      <td>32</td>\n",
       "      <td>Female</td>\n",
       "      <td>Hiphop</td>\n",
       "      <td>Blues</td>\n",
       "      <td>Pop</td>\n",
       "      <td>Instrumental</td>\n",
       "      <td>Rock</td>\n",
       "    </tr>\n",
       "    <tr>\n",
       "      <th>4</th>\n",
       "      <td>17</td>\n",
       "      <td>Female</td>\n",
       "      <td>Pop</td>\n",
       "      <td>Indie/Acoustic</td>\n",
       "      <td>Country</td>\n",
       "      <td>Instrumental</td>\n",
       "      <td>EDM</td>\n",
       "    </tr>\n",
       "  </tbody>\n",
       "</table>\n",
       "</div>"
      ],
      "text/plain": [
       "   Age  Gender    Happy          Gloomy      Stressed      Relaxing  \\\n",
       "0   32    Male     Rock    Instrumental  Instrumental  Instrumental   \n",
       "1   32  Female  Country    Instrumental          Rock  Instrumental   \n",
       "2   32  Female   Hiphop           Blues           Pop  Instrumental   \n",
       "3   32  Female   Hiphop           Blues           Pop  Instrumental   \n",
       "4   17  Female      Pop  Indie/Acoustic       Country  Instrumental   \n",
       "\n",
       "      Energetic  \n",
       "0          Rock  \n",
       "1  Instrumental  \n",
       "2          Rock  \n",
       "3          Rock  \n",
       "4           EDM  "
      ]
     },
     "execution_count": 16,
     "metadata": {},
     "output_type": "execute_result"
    }
   ],
   "source": [
    "import pandas as pd\n",
    "import numpy as np\n",
    "import seaborn as sns\n",
    "import pickle\n",
    "\n",
    "from matplotlib import pyplot as plt\n",
    "from sklearn.tree import DecisionTreeClassifier\n",
    "from sklearn import tree\n",
    "from sklearn.model_selection import train_test_split\n",
    "from sklearn.impute import SimpleImputer\n",
    "\n",
    "from sklearn.svm import SVC \n",
    "from sklearn.metrics import accuracy_score \n",
    "from sklearn.preprocessing import StandardScaler\n",
    "import joblib\n",
    "\n",
    "df=pd.read_csv('MRec2.csv')\n",
    "df.head()"
   ]
  },
  {
   "cell_type": "code",
   "execution_count": 17,
   "id": "27f7c2bb",
   "metadata": {},
   "outputs": [
    {
     "data": {
      "text/html": [
       "<div>\n",
       "<style scoped>\n",
       "    .dataframe tbody tr th:only-of-type {\n",
       "        vertical-align: middle;\n",
       "    }\n",
       "\n",
       "    .dataframe tbody tr th {\n",
       "        vertical-align: top;\n",
       "    }\n",
       "\n",
       "    .dataframe thead th {\n",
       "        text-align: right;\n",
       "    }\n",
       "</style>\n",
       "<table border=\"1\" class=\"dataframe\">\n",
       "  <thead>\n",
       "    <tr style=\"text-align: right;\">\n",
       "      <th></th>\n",
       "      <th>Age</th>\n",
       "      <th>Gender</th>\n",
       "      <th>Happy</th>\n",
       "      <th>Gloomy</th>\n",
       "      <th>Stressed</th>\n",
       "      <th>Relaxing</th>\n",
       "      <th>Energetic</th>\n",
       "    </tr>\n",
       "  </thead>\n",
       "  <tbody>\n",
       "    <tr>\n",
       "      <th>149</th>\n",
       "      <td>28</td>\n",
       "      <td>Female</td>\n",
       "      <td>Pop</td>\n",
       "      <td>Indie/Acoustic</td>\n",
       "      <td>Rock</td>\n",
       "      <td>Indie/Acoustic</td>\n",
       "      <td>Rock</td>\n",
       "    </tr>\n",
       "    <tr>\n",
       "      <th>150</th>\n",
       "      <td>31</td>\n",
       "      <td>Female</td>\n",
       "      <td>Hiphop</td>\n",
       "      <td>Country</td>\n",
       "      <td>Country</td>\n",
       "      <td>Indie/Acoustic</td>\n",
       "      <td>Instrumental</td>\n",
       "    </tr>\n",
       "    <tr>\n",
       "      <th>151</th>\n",
       "      <td>29</td>\n",
       "      <td>Male</td>\n",
       "      <td>Blues</td>\n",
       "      <td>Blues</td>\n",
       "      <td>Rock</td>\n",
       "      <td>Instrumental</td>\n",
       "      <td>Hiphop</td>\n",
       "    </tr>\n",
       "    <tr>\n",
       "      <th>152</th>\n",
       "      <td>34</td>\n",
       "      <td>Female</td>\n",
       "      <td>Pop</td>\n",
       "      <td>Indie/Acoustic</td>\n",
       "      <td>Rock</td>\n",
       "      <td>Instrumental</td>\n",
       "      <td>Rock</td>\n",
       "    </tr>\n",
       "    <tr>\n",
       "      <th>153</th>\n",
       "      <td>33</td>\n",
       "      <td>Male</td>\n",
       "      <td>Hiphop</td>\n",
       "      <td>Rock</td>\n",
       "      <td>Rock</td>\n",
       "      <td>Instrumental</td>\n",
       "      <td>Country</td>\n",
       "    </tr>\n",
       "  </tbody>\n",
       "</table>\n",
       "</div>"
      ],
      "text/plain": [
       "     Age  Gender   Happy          Gloomy Stressed        Relaxing  \\\n",
       "149   28  Female     Pop  Indie/Acoustic     Rock  Indie/Acoustic   \n",
       "150   31  Female  Hiphop         Country  Country  Indie/Acoustic   \n",
       "151   29    Male   Blues           Blues     Rock    Instrumental   \n",
       "152   34  Female     Pop  Indie/Acoustic     Rock    Instrumental   \n",
       "153   33    Male  Hiphop            Rock     Rock    Instrumental   \n",
       "\n",
       "        Energetic  \n",
       "149          Rock  \n",
       "150  Instrumental  \n",
       "151        Hiphop  \n",
       "152          Rock  \n",
       "153       Country  "
      ]
     },
     "execution_count": 17,
     "metadata": {},
     "output_type": "execute_result"
    }
   ],
   "source": [
    "df.tail()"
   ]
  },
  {
   "cell_type": "code",
   "execution_count": 18,
   "id": "76f12445",
   "metadata": {},
   "outputs": [
    {
     "data": {
      "text/html": [
       "<div>\n",
       "<style scoped>\n",
       "    .dataframe tbody tr th:only-of-type {\n",
       "        vertical-align: middle;\n",
       "    }\n",
       "\n",
       "    .dataframe tbody tr th {\n",
       "        vertical-align: top;\n",
       "    }\n",
       "\n",
       "    .dataframe thead th {\n",
       "        text-align: right;\n",
       "    }\n",
       "</style>\n",
       "<table border=\"1\" class=\"dataframe\">\n",
       "  <thead>\n",
       "    <tr style=\"text-align: right;\">\n",
       "      <th></th>\n",
       "      <th>Age</th>\n",
       "    </tr>\n",
       "  </thead>\n",
       "  <tbody>\n",
       "    <tr>\n",
       "      <th>count</th>\n",
       "      <td>154.000000</td>\n",
       "    </tr>\n",
       "    <tr>\n",
       "      <th>mean</th>\n",
       "      <td>27.064935</td>\n",
       "    </tr>\n",
       "    <tr>\n",
       "      <th>std</th>\n",
       "      <td>8.047795</td>\n",
       "    </tr>\n",
       "    <tr>\n",
       "      <th>min</th>\n",
       "      <td>17.000000</td>\n",
       "    </tr>\n",
       "    <tr>\n",
       "      <th>25%</th>\n",
       "      <td>21.000000</td>\n",
       "    </tr>\n",
       "    <tr>\n",
       "      <th>50%</th>\n",
       "      <td>24.000000</td>\n",
       "    </tr>\n",
       "    <tr>\n",
       "      <th>75%</th>\n",
       "      <td>32.000000</td>\n",
       "    </tr>\n",
       "    <tr>\n",
       "      <th>max</th>\n",
       "      <td>55.000000</td>\n",
       "    </tr>\n",
       "  </tbody>\n",
       "</table>\n",
       "</div>"
      ],
      "text/plain": [
       "              Age\n",
       "count  154.000000\n",
       "mean    27.064935\n",
       "std      8.047795\n",
       "min     17.000000\n",
       "25%     21.000000\n",
       "50%     24.000000\n",
       "75%     32.000000\n",
       "max     55.000000"
      ]
     },
     "execution_count": 18,
     "metadata": {},
     "output_type": "execute_result"
    }
   ],
   "source": [
    "#Mean, std, and quartiles of dataset\n",
    "df.describe()"
   ]
  },
  {
   "cell_type": "code",
   "execution_count": 19,
   "id": "948a0f0c",
   "metadata": {},
   "outputs": [
    {
     "name": "stdout",
     "output_type": "stream",
     "text": [
      "Number of null values:\n",
      "Age          0\n",
      "Gender       0\n",
      "Happy        0\n",
      "Gloomy       0\n",
      "Stressed     0\n",
      "Relaxing     0\n",
      "Energetic    0\n",
      "dtype: int64\n"
     ]
    }
   ],
   "source": [
    "#Checking for null values to fill\n",
    "print(\"Number of null values:\")\n",
    "print(df.isnull().sum())"
   ]
  },
  {
   "cell_type": "code",
   "execution_count": 20,
   "id": "1c916d4c",
   "metadata": {},
   "outputs": [
    {
     "name": "stdout",
     "output_type": "stream",
     "text": [
      "Age : [32 17 18 21 19 23 33 45 30 27 42 22 24 31 43 28 26 25 20 37 47 29 49 39\n",
      " 55 36 34]\n",
      "Gender : ['Male' 'Female' 'Prefer not to say']\n",
      "Happy : ['Rock' 'Country' 'Hiphop' 'Pop' 'Indie/Acoustic' 'EDM' 'Instrumental'\n",
      " 'Blues']\n",
      "Gloomy : ['Instrumental' 'Blues' 'Indie/Acoustic' 'Rock' 'Pop' 'EDM' 'Hiphop'\n",
      " 'Country']\n",
      "Stressed : ['Instrumental' 'Rock' 'Pop' 'Country' 'Indie/Acoustic' 'Blues' 'EDM'\n",
      " 'Hiphop']\n",
      "Relaxing : ['Instrumental' 'Hiphop' 'Indie/Acoustic' 'Country' 'Pop' 'Blues' 'Rock'\n",
      " 'EDM']\n",
      "Energetic : ['Rock' 'Instrumental' 'EDM' 'Pop' 'Blues' 'Hiphop' 'Country'\n",
      " 'Indie/Acoustic']\n"
     ]
    }
   ],
   "source": [
    "#Checking number of unique values and wrong entries like symbols -,?,#,*,etc.\n",
    "for col in df.columns:\n",
    "    print('{} : {}'.format(col,df[col].unique()))"
   ]
  },
  {
   "cell_type": "code",
   "execution_count": 21,
   "id": "146743e2",
   "metadata": {},
   "outputs": [
    {
     "name": "stdout",
     "output_type": "stream",
     "text": [
      "Data after dropping empty columns:\n",
      "(154, 7)\n"
     ]
    }
   ],
   "source": [
    "#Dropping empty columns\n",
    "df = df.dropna(axis='columns', how='all')\n",
    "\n",
    "print(\"Data after dropping empty columns:\")\n",
    "print(df.shape)"
   ]
  },
  {
   "cell_type": "code",
   "execution_count": 22,
   "id": "d5635ad6",
   "metadata": {},
   "outputs": [
    {
     "data": {
      "text/html": [
       "<div>\n",
       "<style scoped>\n",
       "    .dataframe tbody tr th:only-of-type {\n",
       "        vertical-align: middle;\n",
       "    }\n",
       "\n",
       "    .dataframe tbody tr th {\n",
       "        vertical-align: top;\n",
       "    }\n",
       "\n",
       "    .dataframe thead th {\n",
       "        text-align: right;\n",
       "    }\n",
       "</style>\n",
       "<table border=\"1\" class=\"dataframe\">\n",
       "  <thead>\n",
       "    <tr style=\"text-align: right;\">\n",
       "      <th></th>\n",
       "      <th>Age</th>\n",
       "      <th>Gender</th>\n",
       "      <th>Happy</th>\n",
       "      <th>Gloomy</th>\n",
       "      <th>Stressed</th>\n",
       "      <th>Relaxing</th>\n",
       "      <th>Energetic</th>\n",
       "    </tr>\n",
       "  </thead>\n",
       "  <tbody>\n",
       "    <tr>\n",
       "      <th>0</th>\n",
       "      <td>32</td>\n",
       "      <td>0.0</td>\n",
       "      <td>Rock</td>\n",
       "      <td>Instrumental</td>\n",
       "      <td>Instrumental</td>\n",
       "      <td>Instrumental</td>\n",
       "      <td>Rock</td>\n",
       "    </tr>\n",
       "    <tr>\n",
       "      <th>1</th>\n",
       "      <td>32</td>\n",
       "      <td>1.0</td>\n",
       "      <td>Country</td>\n",
       "      <td>Instrumental</td>\n",
       "      <td>Rock</td>\n",
       "      <td>Instrumental</td>\n",
       "      <td>Instrumental</td>\n",
       "    </tr>\n",
       "    <tr>\n",
       "      <th>2</th>\n",
       "      <td>32</td>\n",
       "      <td>1.0</td>\n",
       "      <td>Hiphop</td>\n",
       "      <td>Blues</td>\n",
       "      <td>Pop</td>\n",
       "      <td>Instrumental</td>\n",
       "      <td>Rock</td>\n",
       "    </tr>\n",
       "    <tr>\n",
       "      <th>3</th>\n",
       "      <td>32</td>\n",
       "      <td>1.0</td>\n",
       "      <td>Hiphop</td>\n",
       "      <td>Blues</td>\n",
       "      <td>Pop</td>\n",
       "      <td>Instrumental</td>\n",
       "      <td>Rock</td>\n",
       "    </tr>\n",
       "    <tr>\n",
       "      <th>4</th>\n",
       "      <td>17</td>\n",
       "      <td>1.0</td>\n",
       "      <td>Pop</td>\n",
       "      <td>Indie/Acoustic</td>\n",
       "      <td>Country</td>\n",
       "      <td>Instrumental</td>\n",
       "      <td>EDM</td>\n",
       "    </tr>\n",
       "    <tr>\n",
       "      <th>5</th>\n",
       "      <td>17</td>\n",
       "      <td>1.0</td>\n",
       "      <td>Pop</td>\n",
       "      <td>Blues</td>\n",
       "      <td>Indie/Acoustic</td>\n",
       "      <td>Hiphop</td>\n",
       "      <td>Rock</td>\n",
       "    </tr>\n",
       "    <tr>\n",
       "      <th>6</th>\n",
       "      <td>17</td>\n",
       "      <td>1.0</td>\n",
       "      <td>Indie/Acoustic</td>\n",
       "      <td>Indie/Acoustic</td>\n",
       "      <td>Indie/Acoustic</td>\n",
       "      <td>Indie/Acoustic</td>\n",
       "      <td>Rock</td>\n",
       "    </tr>\n",
       "  </tbody>\n",
       "</table>\n",
       "</div>"
      ],
      "text/plain": [
       "   Age  Gender           Happy          Gloomy        Stressed  \\\n",
       "0   32     0.0            Rock    Instrumental    Instrumental   \n",
       "1   32     1.0         Country    Instrumental            Rock   \n",
       "2   32     1.0          Hiphop           Blues             Pop   \n",
       "3   32     1.0          Hiphop           Blues             Pop   \n",
       "4   17     1.0             Pop  Indie/Acoustic         Country   \n",
       "5   17     1.0             Pop           Blues  Indie/Acoustic   \n",
       "6   17     1.0  Indie/Acoustic  Indie/Acoustic  Indie/Acoustic   \n",
       "\n",
       "         Relaxing     Energetic  \n",
       "0    Instrumental          Rock  \n",
       "1    Instrumental  Instrumental  \n",
       "2    Instrumental          Rock  \n",
       "3    Instrumental          Rock  \n",
       "4    Instrumental           EDM  \n",
       "5          Hiphop          Rock  \n",
       "6  Indie/Acoustic          Rock  "
      ]
     },
     "execution_count": 22,
     "metadata": {},
     "output_type": "execute_result"
    }
   ],
   "source": [
    "#Replacing categorical data with integer values\n",
    "\n",
    "df['Gender'].replace(['Male','Female','Prefer not to say'],[0,1,0.5], inplace=True)\n",
    "\n",
    "#Replace null values with NaN\n",
    "df['Age'].replace('  ', np.nan, inplace=True)\n",
    "df= df.dropna(subset=['Age'])\n",
    "df['Gender'].replace('  ', np.nan, inplace=True)\n",
    "df= df.dropna(subset=['Gender'])\n",
    "\n",
    "df.head(7)\n"
   ]
  },
  {
   "cell_type": "code",
   "execution_count": 23,
   "id": "e9bf8cf6",
   "metadata": {},
   "outputs": [
    {
     "data": {
      "text/html": [
       "<div>\n",
       "<style scoped>\n",
       "    .dataframe tbody tr th:only-of-type {\n",
       "        vertical-align: middle;\n",
       "    }\n",
       "\n",
       "    .dataframe tbody tr th {\n",
       "        vertical-align: top;\n",
       "    }\n",
       "\n",
       "    .dataframe thead th {\n",
       "        text-align: right;\n",
       "    }\n",
       "</style>\n",
       "<table border=\"1\" class=\"dataframe\">\n",
       "  <thead>\n",
       "    <tr style=\"text-align: right;\">\n",
       "      <th></th>\n",
       "      <th>Age</th>\n",
       "      <th>Gender</th>\n",
       "      <th>Happy</th>\n",
       "      <th>Gloomy</th>\n",
       "      <th>Stressed</th>\n",
       "      <th>Relaxing</th>\n",
       "      <th>Energetic</th>\n",
       "    </tr>\n",
       "  </thead>\n",
       "  <tbody>\n",
       "    <tr>\n",
       "      <th>0</th>\n",
       "      <td>32</td>\n",
       "      <td>0.0</td>\n",
       "      <td>Rock</td>\n",
       "      <td>Instrumental</td>\n",
       "      <td>Instrumental</td>\n",
       "      <td>Instrumental</td>\n",
       "      <td>Rock</td>\n",
       "    </tr>\n",
       "    <tr>\n",
       "      <th>1</th>\n",
       "      <td>32</td>\n",
       "      <td>1.0</td>\n",
       "      <td>Country</td>\n",
       "      <td>Instrumental</td>\n",
       "      <td>Rock</td>\n",
       "      <td>Instrumental</td>\n",
       "      <td>Instrumental</td>\n",
       "    </tr>\n",
       "    <tr>\n",
       "      <th>2</th>\n",
       "      <td>32</td>\n",
       "      <td>1.0</td>\n",
       "      <td>Hiphop</td>\n",
       "      <td>Blues</td>\n",
       "      <td>Pop</td>\n",
       "      <td>Instrumental</td>\n",
       "      <td>Rock</td>\n",
       "    </tr>\n",
       "    <tr>\n",
       "      <th>3</th>\n",
       "      <td>32</td>\n",
       "      <td>1.0</td>\n",
       "      <td>Hiphop</td>\n",
       "      <td>Blues</td>\n",
       "      <td>Pop</td>\n",
       "      <td>Instrumental</td>\n",
       "      <td>Rock</td>\n",
       "    </tr>\n",
       "    <tr>\n",
       "      <th>4</th>\n",
       "      <td>17</td>\n",
       "      <td>1.0</td>\n",
       "      <td>Pop</td>\n",
       "      <td>Indie/Acoustic</td>\n",
       "      <td>Country</td>\n",
       "      <td>Instrumental</td>\n",
       "      <td>EDM</td>\n",
       "    </tr>\n",
       "    <tr>\n",
       "      <th>5</th>\n",
       "      <td>17</td>\n",
       "      <td>1.0</td>\n",
       "      <td>Pop</td>\n",
       "      <td>Blues</td>\n",
       "      <td>Indie/Acoustic</td>\n",
       "      <td>Hiphop</td>\n",
       "      <td>Rock</td>\n",
       "    </tr>\n",
       "    <tr>\n",
       "      <th>6</th>\n",
       "      <td>17</td>\n",
       "      <td>1.0</td>\n",
       "      <td>Indie/Acoustic</td>\n",
       "      <td>Indie/Acoustic</td>\n",
       "      <td>Indie/Acoustic</td>\n",
       "      <td>Indie/Acoustic</td>\n",
       "      <td>Rock</td>\n",
       "    </tr>\n",
       "  </tbody>\n",
       "</table>\n",
       "</div>"
      ],
      "text/plain": [
       "   Age  Gender           Happy          Gloomy        Stressed  \\\n",
       "0   32     0.0            Rock    Instrumental    Instrumental   \n",
       "1   32     1.0         Country    Instrumental            Rock   \n",
       "2   32     1.0          Hiphop           Blues             Pop   \n",
       "3   32     1.0          Hiphop           Blues             Pop   \n",
       "4   17     1.0             Pop  Indie/Acoustic         Country   \n",
       "5   17     1.0             Pop           Blues  Indie/Acoustic   \n",
       "6   17     1.0  Indie/Acoustic  Indie/Acoustic  Indie/Acoustic   \n",
       "\n",
       "         Relaxing     Energetic  \n",
       "0    Instrumental          Rock  \n",
       "1    Instrumental  Instrumental  \n",
       "2    Instrumental          Rock  \n",
       "3    Instrumental          Rock  \n",
       "4    Instrumental           EDM  \n",
       "5          Hiphop          Rock  \n",
       "6  Indie/Acoustic          Rock  "
      ]
     },
     "execution_count": 23,
     "metadata": {},
     "output_type": "execute_result"
    }
   ],
   "source": [
    "#Replacing NaN instances with mean values\n",
    "columns=df[['Age','Gender']]\n",
    "for col in columns:\n",
    "    df[col]=pd.to_numeric(df[col])\n",
    "    df[col].fillna(df[col].mean(), inplace=True)\n",
    "df.head(7)"
   ]
  },
  {
   "cell_type": "code",
   "execution_count": 24,
   "id": "939c6a44",
   "metadata": {},
   "outputs": [
    {
     "data": {
      "text/plain": [
       "Age          0\n",
       "Gender       0\n",
       "Happy        0\n",
       "Gloomy       0\n",
       "Stressed     0\n",
       "Relaxing     0\n",
       "Energetic    0\n",
       "dtype: int64"
      ]
     },
     "execution_count": 24,
     "metadata": {},
     "output_type": "execute_result"
    }
   ],
   "source": [
    "#Checking for null values again\n",
    "df.isnull().sum()"
   ]
  },
  {
   "cell_type": "code",
   "execution_count": 25,
   "id": "1a2640f3",
   "metadata": {},
   "outputs": [
    {
     "data": {
      "image/png": "[encoded data removed]",
      "text/plain": [
       "<Figure size 432x288 with 1 Axes>"
      ]
     },
     "metadata": {
      "needs_background": "light"
     },
     "output_type": "display_data"
    }
   ],
   "source": [
    "#Histogram of age\n",
    "plt.hist(df['Age'], bins=6)\n",
    "plt.xlabel(\"Age\")\n",
    "plt.ylabel(\"Count of age demographics in dataset:\")\n",
    "\n",
    "plt.show()"
   ]
  },
  {
   "cell_type": "code",
   "execution_count": 26,
   "id": "b76bcbc6",
   "metadata": {},
   "outputs": [
    {
     "data": {
      "text/plain": [
       "(array([23., 11., 14.,  0., 74., 12.,  0.,  7.,  8.,  5.]),\n",
       " array([0. , 0.7, 1.4, 2.1, 2.8, 3.5, 4.2, 4.9, 5.6, 6.3, 7. ]),\n",
       " <BarContainer object of 10 artists>)"
      ]
     },
     "execution_count": 26,
     "metadata": {},
     "output_type": "execute_result"
    },
    {
     "data": {
      "image/png": "[encoded data removed]",
      "text/plain": [
       "<Figure size 432x288 with 1 Axes>"
      ]
     },
     "metadata": {
      "needs_background": "light"
     },
     "output_type": "display_data"
    }
   ],
   "source": [
    "plt.hist(df['Happy'],color = \"#4CAF50\")\n"
   ]
  },
  {
   "cell_type": "code",
   "execution_count": 27,
   "id": "55a7d2da",
   "metadata": {},
   "outputs": [
    {
     "data": {
      "image/png": "[encoded data removed]",
      "text/plain": [
       "<Figure size 432x288 with 1 Axes>"
      ]
     },
     "metadata": {},
     "output_type": "display_data"
    }
   ],
   "source": [
    "#Distribution of genre by pie-chart\n",
    "df['Happy'].value_counts().plot(kind=\"pie\", autopct=\"%.2f\")\n",
    "plt.show()"
   ]
  },
  {
   "cell_type": "code",
   "execution_count": 28,
   "id": "60ee7ee0",
   "metadata": {},
   "outputs": [
    {
     "ename": "KeyError",
     "evalue": "'Mood'",
     "output_type": "error",
     "traceback": [
      "\u001b[1;31m---------------------------------------------------------------------------\u001b[0m",
      "\u001b[1;31mKeyError\u001b[0m                                  Traceback (most recent call last)",
      "File \u001b[1;32mc:\\users\\user\\appdata\\local\\programs\\python\\python39\\lib\\site-packages\\pandas\\core\\indexes\\base.py:3621\u001b[0m, in \u001b[0;36mIndex.get_loc\u001b[1;34m(self, key, method, tolerance)\u001b[0m\n\u001b[0;32m   3620\u001b[0m \u001b[38;5;28;01mtry\u001b[39;00m:\n\u001b[1;32m-> 3621\u001b[0m     \u001b[38;5;28;01mreturn\u001b[39;00m \u001b[38;5;28;43mself\u001b[39;49m\u001b[38;5;241;43m.\u001b[39;49m\u001b[43m_engine\u001b[49m\u001b[38;5;241;43m.\u001b[39;49m\u001b[43mget_loc\u001b[49m\u001b[43m(\u001b[49m\u001b[43mcasted_key\u001b[49m\u001b[43m)\u001b[49m\n\u001b[0;32m   3622\u001b[0m \u001b[38;5;28;01mexcept\u001b[39;00m \u001b[38;5;167;01mKeyError\u001b[39;00m \u001b[38;5;28;01mas\u001b[39;00m err:\n",
      "File \u001b[1;32mc:\\users\\user\\appdata\\local\\programs\\python\\python39\\lib\\site-packages\\pandas\\_libs\\index.pyx:136\u001b[0m, in \u001b[0;36mpandas._libs.index.IndexEngine.get_loc\u001b[1;34m()\u001b[0m\n",
      "File \u001b[1;32mc:\\users\\user\\appdata\\local\\programs\\python\\python39\\lib\\site-packages\\pandas\\_libs\\index.pyx:163\u001b[0m, in \u001b[0;36mpandas._libs.index.IndexEngine.get_loc\u001b[1;34m()\u001b[0m\n",
      "File \u001b[1;32mpandas\\_libs\\hashtable_class_helper.pxi:5198\u001b[0m, in \u001b[0;36mpandas._libs.hashtable.PyObjectHashTable.get_item\u001b[1;34m()\u001b[0m\n",
      "File \u001b[1;32mpandas\\_libs\\hashtable_class_helper.pxi:5206\u001b[0m, in \u001b[0;36mpandas._libs.hashtable.PyObjectHashTable.get_item\u001b[1;34m()\u001b[0m\n",
      "\u001b[1;31mKeyError\u001b[0m: 'Mood'",
      "\nThe above exception was the direct cause of the following exception:\n",
      "\u001b[1;31mKeyError\u001b[0m                                  Traceback (most recent call last)",
      "Input \u001b[1;32mIn [28]\u001b[0m, in \u001b[0;36m<module>\u001b[1;34m\u001b[0m\n\u001b[0;32m      1\u001b[0m \u001b[38;5;66;03m#Correlation between Mood and Genre\u001b[39;00m\n\u001b[1;32m----> 2\u001b[0m sns\u001b[38;5;241m.\u001b[39mheatmap(pd\u001b[38;5;241m.\u001b[39mcrosstab(\u001b[43mdf\u001b[49m\u001b[43m[\u001b[49m\u001b[38;5;124;43m'\u001b[39;49m\u001b[38;5;124;43mMood\u001b[39;49m\u001b[38;5;124;43m'\u001b[39;49m\u001b[43m]\u001b[49m, df[\u001b[38;5;124m'\u001b[39m\u001b[38;5;124mGenre\u001b[39m\u001b[38;5;124m'\u001b[39m]))\n",
      "File \u001b[1;32mc:\\users\\user\\appdata\\local\\programs\\python\\python39\\lib\\site-packages\\pandas\\core\\frame.py:3506\u001b[0m, in \u001b[0;36mDataFrame.__getitem__\u001b[1;34m(self, key)\u001b[0m\n\u001b[0;32m   3504\u001b[0m \u001b[38;5;28;01mif\u001b[39;00m \u001b[38;5;28mself\u001b[39m\u001b[38;5;241m.\u001b[39mcolumns\u001b[38;5;241m.\u001b[39mnlevels \u001b[38;5;241m>\u001b[39m \u001b[38;5;241m1\u001b[39m:\n\u001b[0;32m   3505\u001b[0m     \u001b[38;5;28;01mreturn\u001b[39;00m \u001b[38;5;28mself\u001b[39m\u001b[38;5;241m.\u001b[39m_getitem_multilevel(key)\n\u001b[1;32m-> 3506\u001b[0m indexer \u001b[38;5;241m=\u001b[39m \u001b[38;5;28;43mself\u001b[39;49m\u001b[38;5;241;43m.\u001b[39;49m\u001b[43mcolumns\u001b[49m\u001b[38;5;241;43m.\u001b[39;49m\u001b[43mget_loc\u001b[49m\u001b[43m(\u001b[49m\u001b[43mkey\u001b[49m\u001b[43m)\u001b[49m\n\u001b[0;32m   3507\u001b[0m \u001b[38;5;28;01mif\u001b[39;00m is_integer(indexer):\n\u001b[0;32m   3508\u001b[0m     indexer \u001b[38;5;241m=\u001b[39m [indexer]\n",
      "File \u001b[1;32mc:\\users\\user\\appdata\\local\\programs\\python\\python39\\lib\\site-packages\\pandas\\core\\indexes\\base.py:3623\u001b[0m, in \u001b[0;36mIndex.get_loc\u001b[1;34m(self, key, method, tolerance)\u001b[0m\n\u001b[0;32m   3621\u001b[0m     \u001b[38;5;28;01mreturn\u001b[39;00m \u001b[38;5;28mself\u001b[39m\u001b[38;5;241m.\u001b[39m_engine\u001b[38;5;241m.\u001b[39mget_loc(casted_key)\n\u001b[0;32m   3622\u001b[0m \u001b[38;5;28;01mexcept\u001b[39;00m \u001b[38;5;167;01mKeyError\u001b[39;00m \u001b[38;5;28;01mas\u001b[39;00m err:\n\u001b[1;32m-> 3623\u001b[0m     \u001b[38;5;28;01mraise\u001b[39;00m \u001b[38;5;167;01mKeyError\u001b[39;00m(key) \u001b[38;5;28;01mfrom\u001b[39;00m \u001b[38;5;21;01merr\u001b[39;00m\n\u001b[0;32m   3624\u001b[0m \u001b[38;5;28;01mexcept\u001b[39;00m \u001b[38;5;167;01mTypeError\u001b[39;00m:\n\u001b[0;32m   3625\u001b[0m     \u001b[38;5;66;03m# If we have a listlike key, _check_indexing_error will raise\u001b[39;00m\n\u001b[0;32m   3626\u001b[0m     \u001b[38;5;66;03m#  InvalidIndexError. Otherwise we fall through and re-raise\u001b[39;00m\n\u001b[0;32m   3627\u001b[0m     \u001b[38;5;66;03m#  the TypeError.\u001b[39;00m\n\u001b[0;32m   3628\u001b[0m     \u001b[38;5;28mself\u001b[39m\u001b[38;5;241m.\u001b[39m_check_indexing_error(key)\n",
      "\u001b[1;31mKeyError\u001b[0m: 'Mood'"
     ]
    }
   ],
   "source": [
    "#Correlation between Mood and Genre\n",
    "sns.heatmap(pd.crosstab(df['Mood'], df['Genre']))"
   ]
  },
  {
   "cell_type": "code",
   "execution_count": null,
   "id": "6a25e440",
   "metadata": {},
   "outputs": [],
   "source": [
    "#Pairplot between all numerical categories\n",
    "sns.set_style(\"whitegrid\");\n",
    "columns = ['Age','Gender','Happy','Gloomy','Stressed','Relaxing','Energetic']\n",
    "sns.pairplot(df[columns], hue=\"Gender\",height = 4 ,kind ='scatter',diag_kind='kde')\n",
    "plt.show()"
   ]
  },
  {
   "cell_type": "code",
   "execution_count": null,
   "id": "ef4e888c",
   "metadata": {
    "scrolled": true
   },
   "outputs": [],
   "source": [
    "#Model testing\n",
    "X=df[['Age','Gender']]\n",
    "y=df['Happy','Gloomy','Stressed','Relaxing','Energetic']\n",
    "X_train,X_test,y_train,y_test=train_test_split(X.values,y,test_size = 0.25, random_state = 1000)\n",
    "model=DecisionTreeClassifier()\n",
    "model=model.fit(X_train, y_train)"
   ]
  },
  {
   "cell_type": "code",
   "execution_count": null,
   "id": "d0afc4d0",
   "metadata": {},
   "outputs": [],
   "source": [
    "# data normalization with sklearn\n",
    "from sklearn.preprocessing import MinMaxScaler\n",
    "\n",
    "# fit scaler on training data\n",
    "norm = MinMaxScaler().fit(X_train)\n",
    "\n",
    "# transform training data\n",
    "X_train_norm = norm.transform(X_train)\n",
    "\n",
    "# transform testing dataabs\n",
    "X_test_norm = norm.transform(X_test)\n",
    "\n",
    "from joblib import dump, load\n",
    "joblib.dump(model,'C:/Users/User/Music_Recommendation_App/MusicApp/music_predict.joblib')\n",
    "\n",
    "predictions=model.predict(X_test)"
   ]
  },
  {
   "cell_type": "code",
   "execution_count": null,
   "id": "90f783d1",
   "metadata": {},
   "outputs": [],
   "source": [
    "import pickle\n",
    "import joblib\n",
    "import pandas as pd\n",
    "from sklearn.preprocessing import MinMaxScaler\n",
    "\n",
    "sc= MinMaxScaler\n",
    "mdl = joblib.load('C:/Users/User/Music_Recommendation_App/MusicApp/music_predict.joblib')\n",
    "X= pd.read_csv('MRec.csv')\n",
    "X_test = [[21,1,1],[22,0,4],[29,0,5],[31,0,4],[55,1,4]]\n",
    "y_pred=mdl.predict(X_test)\n",
    "\n",
    "val=pd.DataFrame(y_pred, columns=['Genre'])\n",
    "val"
   ]
  },
  {
   "cell_type": "code",
   "execution_count": null,
   "id": "d6d161ce",
   "metadata": {},
   "outputs": [],
   "source": [
    "#Load saved model\n",
    "lr = joblib.load('C:/Users/User/Music_Recommendation_App/MusicApp/music_predict.joblib')\n",
    "#with open('C:/Users/User/Music_Recommendation_App/MusicApp/music_predict.sav' , 'rb') as f:\n",
    "#    lr = pickle.load(f)\n",
    "X=[[21,1,1],[22,0,4],[29,0,5],[31,0,4],[55,1,4]]\n",
    "lr.predict(X)"
   ]
  },
  {
   "cell_type": "code",
   "execution_count": null,
   "id": "5bcae266",
   "metadata": {},
   "outputs": [],
   "source": [
    "#Relationship analysis\n",
    "sns.heatmap(df.corr(),cbar=True, annot=True, cmap='Blues')"
   ]
  },
  {
   "cell_type": "code",
   "execution_count": null,
   "id": "89033647",
   "metadata": {},
   "outputs": [],
   "source": [
    "#Outliers\n",
    "#q1=df.quantile(0.25)\n",
    "#q3=df.quantile(0.75)\n",
    "#iqr=q3-q1\n",
    "\n",
    "#print(   (df<(q1-1.5*iqr)) | (df>(q3+1.5*iqr))  )\n",
    "\n",
    "#y_pred = model.predict(X_test)\n",
    "#print(\"accuracy_score: %.2f\" % accuracy_score(y_test, y_pred))"
   ]
  },
  {
   "cell_type": "code",
   "execution_count": null,
   "id": "12e9af8b",
   "metadata": {},
   "outputs": [],
   "source": [
    "#Unnecessary\n",
    "#sns.barplot(x=df['Genre'], y=df['Age'],hue = df[\"Gender\"])\n",
    "#plt.show()"
   ]
  }
 ],
 "metadata": {
  "kernelspec": {
   "display_name": "Python 3 (ipykernel)",
   "language": "python",
   "name": "python3"
  },
  "language_info": {
   "codemirror_mode": {
    "name": "ipython",
    "version": 3
   },
   "file_extension": ".py",
   "mimetype": "text/x-python",
   "name": "python",
   "nbconvert_exporter": "python",
   "pygments_lexer": "ipython3",
   "version": "3.9.5"
  }
 },
 "nbformat": 4,
 "nbformat_minor": 5
}
