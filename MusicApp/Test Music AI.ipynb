{
 "cells": [
  {
   "cell_type": "code",
   "execution_count": 57,
   "id": "e1a025b2",
   "metadata": {},
   "outputs": [],
   "source": [
    "import pandas as pd\n",
    "import numpy\n",
    "from sklearn.tree import DecisionTreeClassifier\n",
    "from sklearn.model_selection import train_test_split\n",
    "from matplotlib import pyplot\n",
    "from pandas.plotting import scatter_matrix\n",
    "\n",
    "df=pd.read_csv('Mrec.csv')\n",
    "X=df.drop(columns=['Genre'])\n",
    "y=df['Genre']\n"
   ]
  },
  {
   "cell_type": "code",
   "execution_count": null,
   "id": "40d46d6c",
   "metadata": {},
   "outputs": [],
   "source": [
    "#Model testing\n",
    "X_train,X_test,y_train,y_test=train_test_split(X.values,y,test_size=0.2)\n",
    "model=DecisionTreeClassifier()\n",
    "model.fit(X_train, y_train)\n",
    "\n",
    "#predictions=model.predict([ [21,0,4],[21,1,1],[24,0,1],[31,0,4],[22,0,5] ])\n",
    "#predictions\n"
   ]
  },
  {
   "cell_type": "code",
   "execution_count": 58,
   "id": "2a0b25e5",
   "metadata": {},
   "outputs": [
    {
     "data": {
      "image/png": "[encoded data removed]",
      "text/plain": [
       "<Figure size 432x288 with 1 Axes>"
      ]
     },
     "metadata": {
      "needs_background": "light"
     },
     "output_type": "display_data"
    },
    {
     "data": {
      "image/png": "[encoded data removed]",
      "text/plain": [
       "<Figure size 432x288 with 9 Axes>"
      ]
     },
     "metadata": {
      "needs_background": "light"
     },
     "output_type": "display_data"
    }
   ],
   "source": [
    "#Data visualization\n",
    "age=df['Age']\n",
    "age.hist()\n",
    "#df.plot(kind='density', subplots=True, layout=(3,3), sharex=False)\n",
    "X.plot(kind='box', subplots=True, layout=(3,3), sharex=False)\n",
    "#scatter_matrix(df)\n",
    "\n",
    "pyplot.show()\n"
   ]
  },
  {
   "cell_type": "code",
   "execution_count": 59,
   "id": "df55a21e",
   "metadata": {},
   "outputs": [
    {
     "data": {
      "text/plain": [
       "(215, 4)"
      ]
     },
     "execution_count": 59,
     "metadata": {},
     "output_type": "execute_result"
    }
   ],
   "source": [
    "#Checking for null values to fill\n",
    "null_sum=df.isnull().sum()\n",
    "null_sum\n",
    "data_shape=df.shape\n",
    "data_shape\n",
    "#df.dropna()\n",
    "#df.describe"
   ]
  },
  {
   "cell_type": "code",
   "execution_count": 63,
   "id": "9f9afc9d",
   "metadata": {},
   "outputs": [
    {
     "name": "stdout",
     "output_type": "stream",
     "text": [
      "       Age  Gender  Genre   Mood\n",
      "0    False   False  False  False\n",
      "1    False   False  False  False\n",
      "2    False   False  False  False\n",
      "3    False   False  False  False\n",
      "4    False   False  False  False\n",
      "..     ...     ...    ...    ...\n",
      "210   True   False  False  False\n",
      "211   True   False  False  False\n",
      "212   True   False  False  False\n",
      "213   True   False  False  False\n",
      "214   True   False  False  False\n",
      "\n",
      "[215 rows x 4 columns]\n"
     ]
    },
    {
     "name": "stderr",
     "output_type": "stream",
     "text": [
      "C:\\Users\\User\\AppData\\Local\\Temp\\ipykernel_8068\\3337425943.py:6: FutureWarning: Automatic reindexing on DataFrame vs Series comparisons is deprecated and will raise ValueError in a future version. Do `left, right = left.align(right, axis=1, copy=False)` before e.g. `left == right`\n",
      "  print((df<(q1-1.5*iqr)) | (df>(q3+1.5*iqr)))\n"
     ]
    }
   ],
   "source": [
    "#Outliers\n",
    "q1=df.quantile(0.25)\n",
    "q3=df.quantile(0.75)\n",
    "iqr=q3-q1\n",
    "#print(df['Age'].quantile(0.5))\n",
    "print((df<(q1-1.5*iqr)) | (df>(q3+1.5*iqr)))\n",
    "#df['Age'].describe()"
   ]
  },
  {
   "cell_type": "code",
   "execution_count": null,
   "id": "27f528c4",
   "metadata": {},
   "outputs": [],
   "source": []
  }
 ],
 "metadata": {
  "kernelspec": {
   "display_name": "Python 3 (ipykernel)",
   "language": "python",
   "name": "python3"
  },
  "language_info": {
   "codemirror_mode": {
    "name": "ipython",
    "version": 3
   },
   "file_extension": ".py",
   "mimetype": "text/x-python",
   "name": "python",
   "nbconvert_exporter": "python",
   "pygments_lexer": "ipython3",
   "version": "3.9.5"
  }
 },
 "nbformat": 4,
 "nbformat_minor": 5
}
