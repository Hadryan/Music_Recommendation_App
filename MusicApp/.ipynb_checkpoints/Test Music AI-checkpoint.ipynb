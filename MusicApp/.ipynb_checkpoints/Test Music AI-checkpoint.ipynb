{
 "cells": [
  {
   "cell_type": "code",
   "execution_count": 14,
   "id": "e1a025b2",
   "metadata": {
    "scrolled": true
   },
   "outputs": [
    {
     "data": {
      "text/html": [
       "<div>\n",
       "<style scoped>\n",
       "    .dataframe tbody tr th:only-of-type {\n",
       "        vertical-align: middle;\n",
       "    }\n",
       "\n",
       "    .dataframe tbody tr th {\n",
       "        vertical-align: top;\n",
       "    }\n",
       "\n",
       "    .dataframe thead th {\n",
       "        text-align: right;\n",
       "    }\n",
       "</style>\n",
       "<table border=\"1\" class=\"dataframe\">\n",
       "  <thead>\n",
       "    <tr style=\"text-align: right;\">\n",
       "      <th></th>\n",
       "      <th>Age</th>\n",
       "      <th>Gender</th>\n",
       "      <th>Mood</th>\n",
       "      <th>Genre</th>\n",
       "    </tr>\n",
       "  </thead>\n",
       "  <tbody>\n",
       "    <tr>\n",
       "      <th>0</th>\n",
       "      <td>55</td>\n",
       "      <td>F</td>\n",
       "      <td>Happy</td>\n",
       "      <td>Rock</td>\n",
       "    </tr>\n",
       "    <tr>\n",
       "      <th>1</th>\n",
       "      <td>55</td>\n",
       "      <td>F</td>\n",
       "      <td>Gloomy</td>\n",
       "      <td>Blues</td>\n",
       "    </tr>\n",
       "    <tr>\n",
       "      <th>2</th>\n",
       "      <td>55</td>\n",
       "      <td>F</td>\n",
       "      <td>Stressed</td>\n",
       "      <td>Rock</td>\n",
       "    </tr>\n",
       "    <tr>\n",
       "      <th>3</th>\n",
       "      <td>55</td>\n",
       "      <td>F</td>\n",
       "      <td>Relaxing</td>\n",
       "      <td>Instrumental</td>\n",
       "    </tr>\n",
       "    <tr>\n",
       "      <th>4</th>\n",
       "      <td>55</td>\n",
       "      <td>F</td>\n",
       "      <td>Energetic</td>\n",
       "      <td>Hiphop</td>\n",
       "    </tr>\n",
       "  </tbody>\n",
       "</table>\n",
       "</div>"
      ],
      "text/plain": [
       "   Age Gender       Mood         Genre\n",
       "0   55      F      Happy          Rock\n",
       "1   55      F     Gloomy         Blues\n",
       "2   55      F   Stressed          Rock\n",
       "3   55      F   Relaxing  Instrumental\n",
       "4   55      F  Energetic        Hiphop"
      ]
     },
     "execution_count": 14,
     "metadata": {},
     "output_type": "execute_result"
    }
   ],
   "source": [
    "import pandas as pd\n",
    "import numpy as np\n",
    "import seaborn as sns\n",
    "import pickle\n",
    "\n",
    "from matplotlib import pyplot as plt\n",
    "from sklearn.tree import DecisionTreeClassifier\n",
    "from sklearn import tree\n",
    "from sklearn.model_selection import train_test_split\n",
    "from sklearn.impute import SimpleImputer\n",
    "\n",
    "from sklearn.svm import SVC \n",
    "from sklearn.metrics import accuracy_score \n",
    "from sklearn.preprocessing import StandardScaler\n",
    "import joblib\n",
    "\n",
    "df=pd.read_csv('MRec.csv')\n",
    "data=pd.read_csv('MRec2.csv')\n",
    "df.head()"
   ]
  },
  {
   "cell_type": "code",
   "execution_count": 15,
   "id": "27f7c2bb",
   "metadata": {},
   "outputs": [
    {
     "data": {
      "text/html": [
       "<div>\n",
       "<style scoped>\n",
       "    .dataframe tbody tr th:only-of-type {\n",
       "        vertical-align: middle;\n",
       "    }\n",
       "\n",
       "    .dataframe tbody tr th {\n",
       "        vertical-align: top;\n",
       "    }\n",
       "\n",
       "    .dataframe thead th {\n",
       "        text-align: right;\n",
       "    }\n",
       "</style>\n",
       "<table border=\"1\" class=\"dataframe\">\n",
       "  <thead>\n",
       "    <tr style=\"text-align: right;\">\n",
       "      <th></th>\n",
       "      <th>Age</th>\n",
       "      <th>Gender</th>\n",
       "      <th>Mood</th>\n",
       "      <th>Genre</th>\n",
       "    </tr>\n",
       "  </thead>\n",
       "  <tbody>\n",
       "    <tr>\n",
       "      <th>785</th>\n",
       "      <td>28</td>\n",
       "      <td>F</td>\n",
       "      <td>Happy</td>\n",
       "      <td>Pop</td>\n",
       "    </tr>\n",
       "    <tr>\n",
       "      <th>786</th>\n",
       "      <td>28</td>\n",
       "      <td>F</td>\n",
       "      <td>Gloomy</td>\n",
       "      <td>Indie/Acoustic</td>\n",
       "    </tr>\n",
       "    <tr>\n",
       "      <th>787</th>\n",
       "      <td>28</td>\n",
       "      <td>F</td>\n",
       "      <td>Stressed</td>\n",
       "      <td>Rock</td>\n",
       "    </tr>\n",
       "    <tr>\n",
       "      <th>788</th>\n",
       "      <td>28</td>\n",
       "      <td>F</td>\n",
       "      <td>Relaxing</td>\n",
       "      <td>Indie/Acoustic</td>\n",
       "    </tr>\n",
       "    <tr>\n",
       "      <th>789</th>\n",
       "      <td>28</td>\n",
       "      <td>F</td>\n",
       "      <td>Energetic</td>\n",
       "      <td>Rock</td>\n",
       "    </tr>\n",
       "  </tbody>\n",
       "</table>\n",
       "</div>"
      ],
      "text/plain": [
       "     Age Gender       Mood           Genre\n",
       "785   28      F      Happy             Pop\n",
       "786   28      F     Gloomy  Indie/Acoustic\n",
       "787   28      F   Stressed            Rock\n",
       "788   28      F   Relaxing  Indie/Acoustic\n",
       "789   28      F  Energetic            Rock"
      ]
     },
     "execution_count": 15,
     "metadata": {},
     "output_type": "execute_result"
    }
   ],
   "source": [
    "df.tail()"
   ]
  },
  {
   "cell_type": "code",
   "execution_count": 16,
   "id": "76f12445",
   "metadata": {},
   "outputs": [
    {
     "data": {
      "text/html": [
       "<div>\n",
       "<style scoped>\n",
       "    .dataframe tbody tr th:only-of-type {\n",
       "        vertical-align: middle;\n",
       "    }\n",
       "\n",
       "    .dataframe tbody tr th {\n",
       "        vertical-align: top;\n",
       "    }\n",
       "\n",
       "    .dataframe thead th {\n",
       "        text-align: right;\n",
       "    }\n",
       "</style>\n",
       "<table border=\"1\" class=\"dataframe\">\n",
       "  <thead>\n",
       "    <tr style=\"text-align: right;\">\n",
       "      <th></th>\n",
       "      <th>State your age</th>\n",
       "    </tr>\n",
       "  </thead>\n",
       "  <tbody>\n",
       "    <tr>\n",
       "      <th>count</th>\n",
       "      <td>161.000000</td>\n",
       "    </tr>\n",
       "    <tr>\n",
       "      <th>mean</th>\n",
       "      <td>27.577640</td>\n",
       "    </tr>\n",
       "    <tr>\n",
       "      <th>std</th>\n",
       "      <td>8.425883</td>\n",
       "    </tr>\n",
       "    <tr>\n",
       "      <th>min</th>\n",
       "      <td>17.000000</td>\n",
       "    </tr>\n",
       "    <tr>\n",
       "      <th>25%</th>\n",
       "      <td>21.000000</td>\n",
       "    </tr>\n",
       "    <tr>\n",
       "      <th>50%</th>\n",
       "      <td>24.000000</td>\n",
       "    </tr>\n",
       "    <tr>\n",
       "      <th>75%</th>\n",
       "      <td>32.000000</td>\n",
       "    </tr>\n",
       "    <tr>\n",
       "      <th>max</th>\n",
       "      <td>55.000000</td>\n",
       "    </tr>\n",
       "  </tbody>\n",
       "</table>\n",
       "</div>"
      ],
      "text/plain": [
       "       State your age\n",
       "count      161.000000\n",
       "mean        27.577640\n",
       "std          8.425883\n",
       "min         17.000000\n",
       "25%         21.000000\n",
       "50%         24.000000\n",
       "75%         32.000000\n",
       "max         55.000000"
      ]
     },
     "execution_count": 16,
     "metadata": {},
     "output_type": "execute_result"
    }
   ],
   "source": [
    "#Mean, std, and quartiles of dataset\n",
    "data.describe()"
   ]
  },
  {
   "cell_type": "code",
   "execution_count": 4,
   "id": "948a0f0c",
   "metadata": {},
   "outputs": [
    {
     "name": "stdout",
     "output_type": "stream",
     "text": [
      "Number of null values:\n",
      "Age       0\n",
      "Gender    0\n",
      "Mood      0\n",
      "Genre     0\n",
      "dtype: int64\n"
     ]
    }
   ],
   "source": [
    "#Checking for null values to fill\n",
    "print(\"Number of null values:\")\n",
    "print(df.isnull().sum())"
   ]
  },
  {
   "cell_type": "code",
   "execution_count": 17,
   "id": "1c916d4c",
   "metadata": {},
   "outputs": [
    {
     "name": "stdout",
     "output_type": "stream",
     "text": [
      "Age : [55 49 47 45 43 42 39 37 36 34 33 32 31 30 29 28 27 26 25 24 23 22 21 20\n",
      " 19 18 17 44 50]\n",
      "Gender : ['F' 'M']\n",
      "Mood : ['Happy' 'Gloomy' 'Stressed' 'Relaxing' 'Energetic']\n",
      "Genre : ['Rock' 'Blues' 'Instrumental' 'Hiphop' 'Pop' 'Indie/Acoustic' 'Country'\n",
      " 'EDM']\n"
     ]
    }
   ],
   "source": [
    "#Checking number of unique values and wrong entries like symbols -,?,#,*,etc.\n",
    "for col in df.columns:\n",
    "    print('{} : {}'.format(col,df[col].unique()))"
   ]
  },
  {
   "cell_type": "code",
   "execution_count": 18,
   "id": "4d6be640",
   "metadata": {
    "scrolled": true
   },
   "outputs": [
    {
     "data": {
      "image/png": "[encoded data removed]",
      "text/plain": [
       "<Figure size 432x288 with 1 Axes>"
      ]
     },
     "metadata": {},
     "output_type": "display_data"
    }
   ],
   "source": [
    "#Distribution of gender by pie-chart\n",
    "df['Gender'].value_counts().plot(kind=\"pie\", autopct=\"%.2f\", colors = ['pink', '#94d2bd'])\n",
    "plt.show()"
   ]
  },
  {
   "cell_type": "code",
   "execution_count": 19,
   "id": "d70ad931",
   "metadata": {},
   "outputs": [
    {
     "data": {
      "text/html": [
       "<style type=\"text/css\">\n",
       "#T_aa9f2_row0_col0 {\n",
       "  width: 10em;\n",
       "  background: linear-gradient(90deg, thistle 100.0%, transparent 100.0%);\n",
       "}\n",
       "#T_aa9f2_row1_col0 {\n",
       "  width: 10em;\n",
       "  background: linear-gradient(90deg, thistle 35.5%, transparent 35.5%);\n",
       "}\n",
       "#T_aa9f2_row2_col0 {\n",
       "  width: 10em;\n",
       "  background: linear-gradient(90deg, thistle 19.7%, transparent 19.7%);\n",
       "}\n",
       "#T_aa9f2_row3_col0 {\n",
       "  width: 10em;\n",
       "  background: linear-gradient(90deg, thistle 15.8%, transparent 15.8%);\n",
       "}\n",
       "#T_aa9f2_row4_col0 {\n",
       "  width: 10em;\n",
       "  background: linear-gradient(90deg, thistle 14.5%, transparent 14.5%);\n",
       "}\n",
       "#T_aa9f2_row5_col0 {\n",
       "  width: 10em;\n",
       "  background: linear-gradient(90deg, thistle 10.5%, transparent 10.5%);\n",
       "}\n",
       "#T_aa9f2_row6_col0 {\n",
       "  width: 10em;\n",
       "  background: linear-gradient(90deg, thistle 9.2%, transparent 9.2%);\n",
       "}\n",
       "#T_aa9f2_row7_col0 {\n",
       "  width: 10em;\n",
       "  background: linear-gradient(90deg, thistle 6.6%, transparent 6.6%);\n",
       "}\n",
       "</style>\n",
       "<table id=\"T_aa9f2\">\n",
       "  <thead>\n",
       "    <tr>\n",
       "      <th class=\"blank level0\" >&nbsp;</th>\n",
       "      <th id=\"T_aa9f2_level0_col0\" class=\"col_heading level0 col0\" >Happy</th>\n",
       "    </tr>\n",
       "  </thead>\n",
       "  <tbody>\n",
       "    <tr>\n",
       "      <th id=\"T_aa9f2_level0_row0\" class=\"row_heading level0 row0\" >Pop</th>\n",
       "      <td id=\"T_aa9f2_row0_col0\" class=\"data row0 col0\" >76</td>\n",
       "    </tr>\n",
       "    <tr>\n",
       "      <th id=\"T_aa9f2_level0_row1\" class=\"row_heading level0 row1\" >Rock</th>\n",
       "      <td id=\"T_aa9f2_row1_col0\" class=\"data row1 col0\" >27</td>\n",
       "    </tr>\n",
       "    <tr>\n",
       "      <th id=\"T_aa9f2_level0_row2\" class=\"row_heading level0 row2\" >Hiphop</th>\n",
       "      <td id=\"T_aa9f2_row2_col0\" class=\"data row2 col0\" >15</td>\n",
       "    </tr>\n",
       "    <tr>\n",
       "      <th id=\"T_aa9f2_level0_row3\" class=\"row_heading level0 row3\" >Indie/Acoustic</th>\n",
       "      <td id=\"T_aa9f2_row3_col0\" class=\"data row3 col0\" >12</td>\n",
       "    </tr>\n",
       "    <tr>\n",
       "      <th id=\"T_aa9f2_level0_row4\" class=\"row_heading level0 row4\" >Country</th>\n",
       "      <td id=\"T_aa9f2_row4_col0\" class=\"data row4 col0\" >11</td>\n",
       "    </tr>\n",
       "    <tr>\n",
       "      <th id=\"T_aa9f2_level0_row5\" class=\"row_heading level0 row5\" >Instrumental</th>\n",
       "      <td id=\"T_aa9f2_row5_col0\" class=\"data row5 col0\" >8</td>\n",
       "    </tr>\n",
       "    <tr>\n",
       "      <th id=\"T_aa9f2_level0_row6\" class=\"row_heading level0 row6\" >EDM</th>\n",
       "      <td id=\"T_aa9f2_row6_col0\" class=\"data row6 col0\" >7</td>\n",
       "    </tr>\n",
       "    <tr>\n",
       "      <th id=\"T_aa9f2_level0_row7\" class=\"row_heading level0 row7\" >Blues</th>\n",
       "      <td id=\"T_aa9f2_row7_col0\" class=\"data row7 col0\" >5</td>\n",
       "    </tr>\n",
       "  </tbody>\n",
       "</table>\n"
      ],
      "text/plain": [
       "<pandas.io.formats.style.Styler at 0x2056432ef70>"
      ]
     },
     "execution_count": 19,
     "metadata": {},
     "output_type": "execute_result"
    }
   ],
   "source": [
    "pd.DataFrame(data['Happy'].value_counts()).style.bar(color='thistle')"
   ]
  },
  {
   "cell_type": "code",
   "execution_count": 20,
   "id": "7df79517",
   "metadata": {},
   "outputs": [
    {
     "data": {
      "text/html": [
       "<style type=\"text/css\">\n",
       "#T_2e840_row0_col0 {\n",
       "  width: 10em;\n",
       "  background: linear-gradient(90deg, thistle 100.0%, transparent 100.0%);\n",
       "}\n",
       "#T_2e840_row1_col0 {\n",
       "  width: 10em;\n",
       "  background: linear-gradient(90deg, thistle 58.3%, transparent 58.3%);\n",
       "}\n",
       "#T_2e840_row2_col0 {\n",
       "  width: 10em;\n",
       "  background: linear-gradient(90deg, thistle 54.2%, transparent 54.2%);\n",
       "}\n",
       "#T_2e840_row3_col0 {\n",
       "  width: 10em;\n",
       "  background: linear-gradient(90deg, thistle 39.6%, transparent 39.6%);\n",
       "}\n",
       "#T_2e840_row4_col0 {\n",
       "  width: 10em;\n",
       "  background: linear-gradient(90deg, thistle 35.4%, transparent 35.4%);\n",
       "}\n",
       "#T_2e840_row5_col0 {\n",
       "  width: 10em;\n",
       "  background: linear-gradient(90deg, thistle 22.9%, transparent 22.9%);\n",
       "}\n",
       "#T_2e840_row6_col0, #T_2e840_row7_col0 {\n",
       "  width: 10em;\n",
       "  background: linear-gradient(90deg, thistle 12.5%, transparent 12.5%);\n",
       "}\n",
       "</style>\n",
       "<table id=\"T_2e840\">\n",
       "  <thead>\n",
       "    <tr>\n",
       "      <th class=\"blank level0\" >&nbsp;</th>\n",
       "      <th id=\"T_2e840_level0_col0\" class=\"col_heading level0 col0\" >Gloomy</th>\n",
       "    </tr>\n",
       "  </thead>\n",
       "  <tbody>\n",
       "    <tr>\n",
       "      <th id=\"T_2e840_level0_row0\" class=\"row_heading level0 row0\" >Indie/Acoustic</th>\n",
       "      <td id=\"T_2e840_row0_col0\" class=\"data row0 col0\" >48</td>\n",
       "    </tr>\n",
       "    <tr>\n",
       "      <th id=\"T_2e840_level0_row1\" class=\"row_heading level0 row1\" >Instrumental</th>\n",
       "      <td id=\"T_2e840_row1_col0\" class=\"data row1 col0\" >28</td>\n",
       "    </tr>\n",
       "    <tr>\n",
       "      <th id=\"T_2e840_level0_row2\" class=\"row_heading level0 row2\" >Rock</th>\n",
       "      <td id=\"T_2e840_row2_col0\" class=\"data row2 col0\" >26</td>\n",
       "    </tr>\n",
       "    <tr>\n",
       "      <th id=\"T_2e840_level0_row3\" class=\"row_heading level0 row3\" >Country</th>\n",
       "      <td id=\"T_2e840_row3_col0\" class=\"data row3 col0\" >19</td>\n",
       "    </tr>\n",
       "    <tr>\n",
       "      <th id=\"T_2e840_level0_row4\" class=\"row_heading level0 row4\" >Blues</th>\n",
       "      <td id=\"T_2e840_row4_col0\" class=\"data row4 col0\" >17</td>\n",
       "    </tr>\n",
       "    <tr>\n",
       "      <th id=\"T_2e840_level0_row5\" class=\"row_heading level0 row5\" >Pop</th>\n",
       "      <td id=\"T_2e840_row5_col0\" class=\"data row5 col0\" >11</td>\n",
       "    </tr>\n",
       "    <tr>\n",
       "      <th id=\"T_2e840_level0_row6\" class=\"row_heading level0 row6\" >EDM</th>\n",
       "      <td id=\"T_2e840_row6_col0\" class=\"data row6 col0\" >6</td>\n",
       "    </tr>\n",
       "    <tr>\n",
       "      <th id=\"T_2e840_level0_row7\" class=\"row_heading level0 row7\" >Hiphop</th>\n",
       "      <td id=\"T_2e840_row7_col0\" class=\"data row7 col0\" >6</td>\n",
       "    </tr>\n",
       "  </tbody>\n",
       "</table>\n"
      ],
      "text/plain": [
       "<pandas.io.formats.style.Styler at 0x2056453e520>"
      ]
     },
     "execution_count": 20,
     "metadata": {},
     "output_type": "execute_result"
    }
   ],
   "source": [
    "pd.DataFrame(data['Gloomy'].value_counts()).style.bar(color='thistle')"
   ]
  },
  {
   "cell_type": "code",
   "execution_count": 21,
   "id": "733f6382",
   "metadata": {},
   "outputs": [
    {
     "data": {
      "text/html": [
       "<style type=\"text/css\">\n",
       "#T_22ac5_row0_col0 {\n",
       "  width: 10em;\n",
       "  background: linear-gradient(90deg, thistle 100.0%, transparent 100.0%);\n",
       "}\n",
       "#T_22ac5_row1_col0 {\n",
       "  width: 10em;\n",
       "  background: linear-gradient(90deg, thistle 97.0%, transparent 97.0%);\n",
       "}\n",
       "#T_22ac5_row2_col0 {\n",
       "  width: 10em;\n",
       "  background: linear-gradient(90deg, thistle 85.4%, transparent 85.4%);\n",
       "}\n",
       "#T_22ac5_row3_col0 {\n",
       "  width: 10em;\n",
       "  background: linear-gradient(90deg, thistle 71.3%, transparent 71.3%);\n",
       "}\n",
       "#T_22ac5_row4_col0 {\n",
       "  width: 10em;\n",
       "  background: linear-gradient(90deg, thistle 40.2%, transparent 40.2%);\n",
       "}\n",
       "#T_22ac5_row5_col0 {\n",
       "  width: 10em;\n",
       "  background: linear-gradient(90deg, thistle 38.4%, transparent 38.4%);\n",
       "}\n",
       "#T_22ac5_row6_col0 {\n",
       "  width: 10em;\n",
       "  background: linear-gradient(90deg, thistle 25.0%, transparent 25.0%);\n",
       "}\n",
       "#T_22ac5_row7_col0 {\n",
       "  width: 10em;\n",
       "  background: linear-gradient(90deg, thistle 24.4%, transparent 24.4%);\n",
       "}\n",
       "</style>\n",
       "<table id=\"T_22ac5\">\n",
       "  <thead>\n",
       "    <tr>\n",
       "      <th class=\"blank level0\" >&nbsp;</th>\n",
       "      <th id=\"T_22ac5_level0_col0\" class=\"col_heading level0 col0\" >Genre</th>\n",
       "    </tr>\n",
       "  </thead>\n",
       "  <tbody>\n",
       "    <tr>\n",
       "      <th id=\"T_22ac5_level0_row0\" class=\"row_heading level0 row0\" >Pop</th>\n",
       "      <td id=\"T_22ac5_row0_col0\" class=\"data row0 col0\" >164</td>\n",
       "    </tr>\n",
       "    <tr>\n",
       "      <th id=\"T_22ac5_level0_row1\" class=\"row_heading level0 row1\" >Rock</th>\n",
       "      <td id=\"T_22ac5_row1_col0\" class=\"data row1 col0\" >159</td>\n",
       "    </tr>\n",
       "    <tr>\n",
       "      <th id=\"T_22ac5_level0_row2\" class=\"row_heading level0 row2\" >Indie/Acoustic</th>\n",
       "      <td id=\"T_22ac5_row2_col0\" class=\"data row2 col0\" >140</td>\n",
       "    </tr>\n",
       "    <tr>\n",
       "      <th id=\"T_22ac5_level0_row3\" class=\"row_heading level0 row3\" >Instrumental</th>\n",
       "      <td id=\"T_22ac5_row3_col0\" class=\"data row3 col0\" >117</td>\n",
       "    </tr>\n",
       "    <tr>\n",
       "      <th id=\"T_22ac5_level0_row4\" class=\"row_heading level0 row4\" >Hiphop</th>\n",
       "      <td id=\"T_22ac5_row4_col0\" class=\"data row4 col0\" >66</td>\n",
       "    </tr>\n",
       "    <tr>\n",
       "      <th id=\"T_22ac5_level0_row5\" class=\"row_heading level0 row5\" >Country</th>\n",
       "      <td id=\"T_22ac5_row5_col0\" class=\"data row5 col0\" >63</td>\n",
       "    </tr>\n",
       "    <tr>\n",
       "      <th id=\"T_22ac5_level0_row6\" class=\"row_heading level0 row6\" >Blues</th>\n",
       "      <td id=\"T_22ac5_row6_col0\" class=\"data row6 col0\" >41</td>\n",
       "    </tr>\n",
       "    <tr>\n",
       "      <th id=\"T_22ac5_level0_row7\" class=\"row_heading level0 row7\" >EDM</th>\n",
       "      <td id=\"T_22ac5_row7_col0\" class=\"data row7 col0\" >40</td>\n",
       "    </tr>\n",
       "  </tbody>\n",
       "</table>\n"
      ],
      "text/plain": [
       "<pandas.io.formats.style.Styler at 0x20564382490>"
      ]
     },
     "execution_count": 21,
     "metadata": {},
     "output_type": "execute_result"
    }
   ],
   "source": [
    "pd.DataFrame(df['Genre'].value_counts()).style.bar(color='thistle')"
   ]
  },
  {
   "cell_type": "code",
   "execution_count": null,
   "id": "55a7d2da",
   "metadata": {
    "scrolled": false
   },
   "outputs": [],
   "source": [
    "#Distribution of genre by pie-chart\n",
    "df['Genre'].value_counts().plot(kind=\"pie\", autopct=\"%.2f\")\n",
    "plt.show()"
   ]
  },
  {
   "cell_type": "code",
   "execution_count": 22,
   "id": "146743e2",
   "metadata": {},
   "outputs": [
    {
     "name": "stdout",
     "output_type": "stream",
     "text": [
      "Data after dropping empty columns:\n",
      "(790, 4)\n"
     ]
    }
   ],
   "source": [
    "#Dropping empty columns\n",
    "df = df.dropna(axis='columns', how='all')\n",
    "\n",
    "print(\"Data after dropping empty columns:\")\n",
    "print(df.shape)"
   ]
  },
  {
   "cell_type": "code",
   "execution_count": 23,
   "id": "d5635ad6",
   "metadata": {},
   "outputs": [
    {
     "data": {
      "text/html": [
       "<div>\n",
       "<style scoped>\n",
       "    .dataframe tbody tr th:only-of-type {\n",
       "        vertical-align: middle;\n",
       "    }\n",
       "\n",
       "    .dataframe tbody tr th {\n",
       "        vertical-align: top;\n",
       "    }\n",
       "\n",
       "    .dataframe thead th {\n",
       "        text-align: right;\n",
       "    }\n",
       "</style>\n",
       "<table border=\"1\" class=\"dataframe\">\n",
       "  <thead>\n",
       "    <tr style=\"text-align: right;\">\n",
       "      <th></th>\n",
       "      <th>Age</th>\n",
       "      <th>Gender</th>\n",
       "      <th>Mood</th>\n",
       "      <th>Genre</th>\n",
       "    </tr>\n",
       "  </thead>\n",
       "  <tbody>\n",
       "    <tr>\n",
       "      <th>0</th>\n",
       "      <td>55</td>\n",
       "      <td>1</td>\n",
       "      <td>Happy</td>\n",
       "      <td>Rock</td>\n",
       "    </tr>\n",
       "    <tr>\n",
       "      <th>1</th>\n",
       "      <td>55</td>\n",
       "      <td>1</td>\n",
       "      <td>Gloomy</td>\n",
       "      <td>Blues</td>\n",
       "    </tr>\n",
       "    <tr>\n",
       "      <th>2</th>\n",
       "      <td>55</td>\n",
       "      <td>1</td>\n",
       "      <td>Stressed</td>\n",
       "      <td>Rock</td>\n",
       "    </tr>\n",
       "    <tr>\n",
       "      <th>3</th>\n",
       "      <td>55</td>\n",
       "      <td>1</td>\n",
       "      <td>Relaxing</td>\n",
       "      <td>Instrumental</td>\n",
       "    </tr>\n",
       "    <tr>\n",
       "      <th>4</th>\n",
       "      <td>55</td>\n",
       "      <td>1</td>\n",
       "      <td>Energetic</td>\n",
       "      <td>Hiphop</td>\n",
       "    </tr>\n",
       "    <tr>\n",
       "      <th>5</th>\n",
       "      <td>49</td>\n",
       "      <td>0</td>\n",
       "      <td>Happy</td>\n",
       "      <td>Rock</td>\n",
       "    </tr>\n",
       "    <tr>\n",
       "      <th>6</th>\n",
       "      <td>49</td>\n",
       "      <td>0</td>\n",
       "      <td>Gloomy</td>\n",
       "      <td>Pop</td>\n",
       "    </tr>\n",
       "  </tbody>\n",
       "</table>\n",
       "</div>"
      ],
      "text/plain": [
       "   Age  Gender       Mood         Genre\n",
       "0   55       1      Happy          Rock\n",
       "1   55       1     Gloomy         Blues\n",
       "2   55       1   Stressed          Rock\n",
       "3   55       1   Relaxing  Instrumental\n",
       "4   55       1  Energetic        Hiphop\n",
       "5   49       0      Happy          Rock\n",
       "6   49       0     Gloomy           Pop"
      ]
     },
     "execution_count": 23,
     "metadata": {},
     "output_type": "execute_result"
    }
   ],
   "source": [
    "#Replacing categorical data with integer values\n",
    "df['Gender'].replace(['M','F'],[0,1], inplace=True)\n",
    "\n",
    "#Replace null values with NaN\n",
    "df['Age'].replace('  ', np.nan, inplace=True)\n",
    "df= df.dropna(subset=['Age'])\n",
    "df['Gender'].replace('  ', np.nan, inplace=True)\n",
    "df= df.dropna(subset=['Gender'])\n",
    "df['Mood'].replace('  ', np.nan, inplace=True)\n",
    "df= df.dropna(subset=['Mood'])\n",
    "\n",
    "df.head(7)\n"
   ]
  },
  {
   "cell_type": "code",
   "execution_count": 24,
   "id": "a7c9dc14",
   "metadata": {},
   "outputs": [
    {
     "data": {
      "text/html": [
       "<div>\n",
       "<style scoped>\n",
       "    .dataframe tbody tr th:only-of-type {\n",
       "        vertical-align: middle;\n",
       "    }\n",
       "\n",
       "    .dataframe tbody tr th {\n",
       "        vertical-align: top;\n",
       "    }\n",
       "\n",
       "    .dataframe thead th {\n",
       "        text-align: right;\n",
       "    }\n",
       "</style>\n",
       "<table border=\"1\" class=\"dataframe\">\n",
       "  <thead>\n",
       "    <tr style=\"text-align: right;\">\n",
       "      <th></th>\n",
       "      <th>Age</th>\n",
       "      <th>Gender</th>\n",
       "      <th>Mood</th>\n",
       "      <th>Genre</th>\n",
       "    </tr>\n",
       "  </thead>\n",
       "  <tbody>\n",
       "    <tr>\n",
       "      <th>0</th>\n",
       "      <td>55</td>\n",
       "      <td>1</td>\n",
       "      <td>2</td>\n",
       "      <td>Rock</td>\n",
       "    </tr>\n",
       "    <tr>\n",
       "      <th>1</th>\n",
       "      <td>55</td>\n",
       "      <td>1</td>\n",
       "      <td>1</td>\n",
       "      <td>Blues</td>\n",
       "    </tr>\n",
       "    <tr>\n",
       "      <th>2</th>\n",
       "      <td>55</td>\n",
       "      <td>1</td>\n",
       "      <td>4</td>\n",
       "      <td>Rock</td>\n",
       "    </tr>\n",
       "    <tr>\n",
       "      <th>3</th>\n",
       "      <td>55</td>\n",
       "      <td>1</td>\n",
       "      <td>3</td>\n",
       "      <td>Instrumental</td>\n",
       "    </tr>\n",
       "    <tr>\n",
       "      <th>4</th>\n",
       "      <td>55</td>\n",
       "      <td>1</td>\n",
       "      <td>0</td>\n",
       "      <td>Hiphop</td>\n",
       "    </tr>\n",
       "    <tr>\n",
       "      <th>5</th>\n",
       "      <td>49</td>\n",
       "      <td>0</td>\n",
       "      <td>2</td>\n",
       "      <td>Rock</td>\n",
       "    </tr>\n",
       "    <tr>\n",
       "      <th>6</th>\n",
       "      <td>49</td>\n",
       "      <td>0</td>\n",
       "      <td>1</td>\n",
       "      <td>Pop</td>\n",
       "    </tr>\n",
       "    <tr>\n",
       "      <th>7</th>\n",
       "      <td>49</td>\n",
       "      <td>0</td>\n",
       "      <td>4</td>\n",
       "      <td>Rock</td>\n",
       "    </tr>\n",
       "    <tr>\n",
       "      <th>8</th>\n",
       "      <td>49</td>\n",
       "      <td>0</td>\n",
       "      <td>3</td>\n",
       "      <td>Instrumental</td>\n",
       "    </tr>\n",
       "    <tr>\n",
       "      <th>9</th>\n",
       "      <td>49</td>\n",
       "      <td>0</td>\n",
       "      <td>0</td>\n",
       "      <td>Pop</td>\n",
       "    </tr>\n",
       "  </tbody>\n",
       "</table>\n",
       "</div>"
      ],
      "text/plain": [
       "   Age  Gender  Mood         Genre\n",
       "0   55       1     2          Rock\n",
       "1   55       1     1         Blues\n",
       "2   55       1     4          Rock\n",
       "3   55       1     3  Instrumental\n",
       "4   55       1     0        Hiphop\n",
       "5   49       0     2          Rock\n",
       "6   49       0     1           Pop\n",
       "7   49       0     4          Rock\n",
       "8   49       0     3  Instrumental\n",
       "9   49       0     0           Pop"
      ]
     },
     "execution_count": 24,
     "metadata": {},
     "output_type": "execute_result"
    }
   ],
   "source": [
    "#Ordinal Encoder for mood\n",
    "from category_encoders import OrdinalEncoder\n",
    "\n",
    "mapping_1 = {}\n",
    "for category in sorted(list(df['Mood'].unique())):\n",
    "    mapping_1[category] = sorted(list(df['Mood'].unique())).index(category)\n",
    "\n",
    "maplist_1 = [{'col': 'Mood', \n",
    "            'mapping': mapping_1}]\n",
    "\n",
    "Ordinal_Encoder_1 = OrdinalEncoder(mapping=maplist_1)\n",
    "\n",
    "df = Ordinal_Encoder_1.fit_transform(df)\n",
    "df.head(10)"
   ]
  },
  {
   "cell_type": "code",
   "execution_count": null,
   "id": "e9bf8cf6",
   "metadata": {
    "scrolled": true
   },
   "outputs": [],
   "source": [
    "#Replacing NaN instances with mean values\n",
    "columns=df[['Age','Gender']]\n",
    "for col in columns:\n",
    "    df[col]=pd.to_numeric(df[col])\n",
    "    df[col].fillna(df[col].mean(), inplace=True)\n"
   ]
  },
  {
   "cell_type": "code",
   "execution_count": null,
   "id": "4b5c1012",
   "metadata": {},
   "outputs": [],
   "source": [
    "df.head()"
   ]
  },
  {
   "cell_type": "code",
   "execution_count": null,
   "id": "939c6a44",
   "metadata": {},
   "outputs": [],
   "source": [
    "#Checking for null values again\n",
    "df.isnull().sum()"
   ]
  },
  {
   "cell_type": "code",
   "execution_count": null,
   "id": "1a2640f3",
   "metadata": {},
   "outputs": [],
   "source": [
    "#Histogram of age\n",
    "plt.hist(data['Age'], bins=6, rwidth=0.9, color=\"#ffb5a7\")\n",
    "plt.xlabel(\"Age\")\n",
    "plt.ylabel(\"Count of age demographics in dataset:\")\n",
    "\n",
    "plt.show()"
   ]
  },
  {
   "cell_type": "code",
   "execution_count": null,
   "id": "c161bbec",
   "metadata": {},
   "outputs": [],
   "source": [
    "plt.hist(data['Happy'],color = \"#bde0fe\", rwidth=0.9)"
   ]
  },
  {
   "cell_type": "code",
   "execution_count": null,
   "id": "c84a0680",
   "metadata": {},
   "outputs": [],
   "source": [
    "plt.hist(data['Gloomy'],color = \"#bde0fe\", rwidth=0.9)"
   ]
  },
  {
   "cell_type": "code",
   "execution_count": null,
   "id": "7da0bb02",
   "metadata": {},
   "outputs": [],
   "source": [
    "plt.hist(data['Stressed'],color = \"#bde0fe\", rwidth=0.9)"
   ]
  },
  {
   "cell_type": "code",
   "execution_count": null,
   "id": "e29975dd",
   "metadata": {},
   "outputs": [],
   "source": [
    "plt.hist(data['Energetic'],color = \"#bde0fe\", rwidth=0.9)"
   ]
  },
  {
   "cell_type": "code",
   "execution_count": null,
   "id": "c72eddf9",
   "metadata": {},
   "outputs": [],
   "source": [
    "plt.hist(data['Relaxing'],color = \"#bde0fe\", rwidth=0.9)"
   ]
  },
  {
   "cell_type": "code",
   "execution_count": null,
   "id": "51fba8d7",
   "metadata": {},
   "outputs": [],
   "source": [
    "#Boxplot between Age and Genre, coloured by Gender\n",
    "sns.boxplot(x='Age',y='Genre',hue='Gender',color = '#bbdef9',data=df)"
   ]
  },
  {
   "cell_type": "code",
   "execution_count": null,
   "id": "60ee7ee0",
   "metadata": {},
   "outputs": [],
   "source": [
    "#Correlation between Mood and Genre\n",
    "sns.heatmap(pd.crosstab(df['Mood'], df['Genre']))"
   ]
  },
  {
   "cell_type": "code",
   "execution_count": null,
   "id": "f44a822b",
   "metadata": {},
   "outputs": [],
   "source": [
    "#Correlation between which Genre is preferred by age groups when Happy\n",
    "sns.heatmap(pd.crosstab(data['Age'], data['Happy']))"
   ]
  },
  {
   "cell_type": "code",
   "execution_count": null,
   "id": "96a9025a",
   "metadata": {},
   "outputs": [],
   "source": [
    "#Correlation between which Genre is preferred by age groups when Gloomy\n",
    "sns.heatmap(pd.crosstab(data['Age'], data['Gloomy']))"
   ]
  },
  {
   "cell_type": "code",
   "execution_count": null,
   "id": "27eb4610",
   "metadata": {},
   "outputs": [],
   "source": [
    "#Correlation between which Genre is preferred by age groups when Stressed\n",
    "sns.heatmap(pd.crosstab(data['Age'], data['Stressed']))"
   ]
  },
  {
   "cell_type": "code",
   "execution_count": null,
   "id": "a9e9cd36",
   "metadata": {},
   "outputs": [],
   "source": [
    "#Correlation between which Genre is preferred by age groups when Relaxing\n",
    "sns.heatmap(pd.crosstab(data['Age'], data['Relaxing']))"
   ]
  },
  {
   "cell_type": "code",
   "execution_count": null,
   "id": "d7ffbe30",
   "metadata": {},
   "outputs": [],
   "source": [
    "#Correlation between which Genre is preferred by age groups when Energetic\n",
    "sns.heatmap(pd.crosstab(data['Age'], data['Energetic']))"
   ]
  },
  {
   "cell_type": "code",
   "execution_count": null,
   "id": "6a25e440",
   "metadata": {},
   "outputs": [],
   "source": [
    "#Pairplot between all numerical categories\n",
    "sns.set_style(\"whitegrid\");\n",
    "columns = ['Age','Gender','Mood']\n",
    "sns.pairplot(df[columns], hue=\"Gender\",height = 4 ,kind ='scatter',diag_kind='kde')\n",
    "plt.show()"
   ]
  },
  {
   "cell_type": "code",
   "execution_count": null,
   "id": "5bcae266",
   "metadata": {
    "scrolled": true
   },
   "outputs": [],
   "source": [
    "#Relationship analysis\n",
    "sns.heatmap(df.corr(),cbar=True, annot=True, cmap='Blues')"
   ]
  },
  {
   "cell_type": "code",
   "execution_count": null,
   "id": "ef4e888c",
   "metadata": {
    "scrolled": true
   },
   "outputs": [],
   "source": [
    "#Model testing\n",
    "#df['Mood'].replace(['Happy','Gloomy','Stressed','Energetic','Relaxing'],[0,1], inplace=True)\n",
    "X=df[['Age','Gender','Mood']]\n",
    "y=df['Genre']\n",
    "X_train,X_test,y_train,y_test=train_test_split(X.values,y,test_size = 0.25, random_state = 1000)\n",
    "model=DecisionTreeClassifier(criterion=\"entropy\")\n",
    "model=model.fit(X_train, y_train)"
   ]
  },
  {
   "cell_type": "code",
   "execution_count": null,
   "id": "8048c05a",
   "metadata": {},
   "outputs": [],
   "source": [
    "from sklearn import metrics\n",
    "#Classification accuracy can be misleading \n",
    "#if you have an unequal number of observations in each class, or if you have more than two classes in your dataset.\n",
    "print(metrics.classification_report(y_test, model.predict(X_test)))\n",
    "\n",
    "print(accuracy_score(y_test, model.predict(X_test)))\n",
    "\n",
    "print(metrics.confusion_matrix(y_test, model.predict(X_test)))"
   ]
  },
  {
   "cell_type": "code",
   "execution_count": null,
   "id": "2e2fc4f9",
   "metadata": {},
   "outputs": [],
   "source": [
    "#data normalization with sklearn\n",
    "from sklearn.preprocessing import MinMaxScaler\n",
    "\n",
    "#fit scaler on training data\n",
    "norm = MinMaxScaler().fit(X_train)\n",
    "\n",
    "#transform training data\n",
    "X_train_norm = norm.transform(X_train)\n",
    "\n",
    "#transform testing dataabs\n",
    "X_test_norm = norm.transform(X_test)\n",
    "\n",
    "from joblib import dump, load\n",
    "joblib.dump(model,'C:/Users/User/Music_Recommendation_App/MusicApp/music_predict.joblib')\n",
    "\n",
    "predictions=model.predict(X_test)"
   ]
  },
  {
   "cell_type": "code",
   "execution_count": null,
   "id": "90f783d1",
   "metadata": {},
   "outputs": [],
   "source": [
    "import pickle\n",
    "import joblib\n",
    "import pandas as pd\n",
    "from sklearn.preprocessing import MinMaxScaler\n",
    "\n",
    "sc= MinMaxScaler\n",
    "mdl = joblib.load('C:/Users/User/Music_Recommendation_App/MusicApp/music_predict.joblib')\n",
    "X= pd.read_csv('MRec.csv')\n",
    "X_test = [[21,1,0],[22,0,3],[29,0,4],[31,0,3],[55,1,3]]\n",
    "y_pred=mdl.predict(X_test)\n",
    "\n",
    "val=pd.DataFrame(y_pred, columns=['Genre'])\n",
    "val"
   ]
  },
  {
   "cell_type": "code",
   "execution_count": null,
   "id": "d6d161ce",
   "metadata": {},
   "outputs": [],
   "source": [
    "#Load saved model\n",
    "lr = joblib.load('C:/Users/User/Music_Recommendation_App/MusicApp/music_predict.joblib')\n",
    "\n",
    "X=[[21,1,0],[22,0,3],[29,0,4],[31,0,3],[55,1,3]]\n",
    "lr.predict(X)"
   ]
  },
  {
   "cell_type": "code",
   "execution_count": null,
   "id": "89033647",
   "metadata": {},
   "outputs": [],
   "source": [
    "#Outliers\n",
    "#q1=df.quantile(0.25)\n",
    "#q3=df.quantile(0.75)\n",
    "#iqr=q3-q1\n",
    "\n",
    "#print(   (df<(q1-1.5*iqr)) | (df>(q3+1.5*iqr))  )"
   ]
  }
 ],
 "metadata": {
  "kernelspec": {
   "display_name": "Python 3 (ipykernel)",
   "language": "python",
   "name": "python3"
  },
  "language_info": {
   "codemirror_mode": {
    "name": "ipython",
    "version": 3
   },
   "file_extension": ".py",
   "mimetype": "text/x-python",
   "name": "python",
   "nbconvert_exporter": "python",
   "pygments_lexer": "ipython3",
   "version": "3.9.5"
  }
 },
 "nbformat": 4,
 "nbformat_minor": 5
}
