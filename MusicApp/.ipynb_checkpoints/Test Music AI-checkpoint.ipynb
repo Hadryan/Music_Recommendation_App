{
 "cells": [
  {
   "cell_type": "code",
   "execution_count": null,
   "id": "e1a025b2",
   "metadata": {
    "scrolled": true
   },
   "outputs": [],
   "source": [
    "import pandas as pd\n",
    "import numpy as np\n",
    "import seaborn as sns\n",
    "import pickle\n",
    "\n",
    "from matplotlib import pyplot as plt\n",
    "from sklearn.tree import DecisionTreeClassifier\n",
    "from sklearn import tree\n",
    "from sklearn.model_selection import train_test_split\n",
    "from sklearn.impute import SimpleImputer\n",
    "\n",
    "from sklearn.svm import SVC \n",
    "from sklearn.metrics import accuracy_score \n",
    "from sklearn.preprocessing import StandardScaler\n",
    "import joblib\n",
    "\n",
    "df=pd.read_csv('MRec.csv')\n",
    "data=pd.read_csv('MRec2.csv')\n",
    "df.head()"
   ]
  },
  {
   "cell_type": "code",
   "execution_count": null,
   "id": "27f7c2bb",
   "metadata": {},
   "outputs": [],
   "source": [
    "df.tail()"
   ]
  },
  {
   "cell_type": "code",
   "execution_count": null,
   "id": "76f12445",
   "metadata": {},
   "outputs": [],
   "source": [
    "#Mean, std, and quartiles of dataset\n",
    "data.describe()"
   ]
  },
  {
   "cell_type": "code",
   "execution_count": null,
   "id": "948a0f0c",
   "metadata": {},
   "outputs": [],
   "source": [
    "#Checking for null values to fill\n",
    "print(\"Number of null values:\")\n",
    "print(df.isnull().sum())"
   ]
  },
  {
   "cell_type": "code",
   "execution_count": null,
   "id": "1c916d4c",
   "metadata": {},
   "outputs": [],
   "source": [
    "#Checking number of unique values and wrong entries like symbols -,?,#,*,etc.\n",
    "for col in df.columns:\n",
    "    print('{} : {}'.format(col,df[col].unique()))"
   ]
  },
  {
   "cell_type": "code",
   "execution_count": null,
   "id": "4d6be640",
   "metadata": {
    "scrolled": true
   },
   "outputs": [],
   "source": [
    "#Distribution of gender by pie-chart\n",
    "df['Gender'].value_counts().plot(kind=\"pie\", autopct=\"%.2f\", colors = ['pink', '#94d2bd'])\n",
    "plt.show()"
   ]
  },
  {
   "cell_type": "code",
   "execution_count": null,
   "id": "d70ad931",
   "metadata": {},
   "outputs": [],
   "source": [
    "pd.DataFrame(data['Happy'].value_counts()).style.bar(color='thistle')"
   ]
  },
  {
   "cell_type": "code",
   "execution_count": null,
   "id": "7df79517",
   "metadata": {},
   "outputs": [],
   "source": [
    "pd.DataFrame(data['Gloomy'].value_counts()).style.bar(color='thistle')"
   ]
  },
  {
   "cell_type": "code",
   "execution_count": null,
   "id": "733f6382",
   "metadata": {},
   "outputs": [],
   "source": [
    "pd.DataFrame(df['Genre'].value_counts()).style.bar(color='thistle')"
   ]
  },
  {
   "cell_type": "code",
   "execution_count": null,
   "id": "55a7d2da",
   "metadata": {
    "scrolled": false
   },
   "outputs": [],
   "source": [
    "#Distribution of genre by pie-chart\n",
    "df['Genre'].value_counts().plot(kind=\"pie\", autopct=\"%.2f\")\n",
    "plt.show()"
   ]
  },
  {
   "cell_type": "code",
   "execution_count": null,
   "id": "146743e2",
   "metadata": {},
   "outputs": [],
   "source": [
    "#Dropping empty columns\n",
    "df = df.dropna(axis='columns', how='all')\n",
    "\n",
    "print(\"Data after dropping empty columns:\")\n",
    "print(df.shape)"
   ]
  },
  {
   "cell_type": "code",
   "execution_count": null,
   "id": "d5635ad6",
   "metadata": {},
   "outputs": [],
   "source": [
    "#Replacing categorical data with integer values\n",
    "df['Gender'].replace(['M','F'],[0,1], inplace=True)\n",
    "\n",
    "#Replace null values with NaN\n",
    "df['Age'].replace('  ', np.nan, inplace=True)\n",
    "df= df.dropna(subset=['Age'])\n",
    "df['Gender'].replace('  ', np.nan, inplace=True)\n",
    "df= df.dropna(subset=['Gender'])\n",
    "df['Mood'].replace('  ', np.nan, inplace=True)\n",
    "df= df.dropna(subset=['Mood'])\n",
    "\n",
    "df.head(7)\n"
   ]
  },
  {
   "cell_type": "code",
   "execution_count": null,
   "id": "a7c9dc14",
   "metadata": {},
   "outputs": [],
   "source": [
    "#Ordinal Encoder for mood\n",
    "from category_encoders import OrdinalEncoder\n",
    "\n",
    "mapping_1 = {}\n",
    "for category in sorted(list(df['Mood'].unique())):\n",
    "    mapping_1[category] = sorted(list(df['Mood'].unique())).index(category)\n",
    "\n",
    "maplist_1 = [{'col': 'Mood', \n",
    "            'mapping': mapping_1}]\n",
    "\n",
    "Ordinal_Encoder_1 = OrdinalEncoder(mapping=maplist_1)\n",
    "\n",
    "df = Ordinal_Encoder_1.fit_transform(df)\n",
    "df.head(10)"
   ]
  },
  {
   "cell_type": "code",
   "execution_count": null,
   "id": "e9bf8cf6",
   "metadata": {
    "scrolled": true
   },
   "outputs": [],
   "source": [
    "#Replacing NaN instances with mean values\n",
    "columns=df[['Age','Gender']]\n",
    "for col in columns:\n",
    "    df[col]=pd.to_numeric(df[col])\n",
    "    df[col].fillna(df[col].mean(), inplace=True)\n"
   ]
  },
  {
   "cell_type": "code",
   "execution_count": null,
   "id": "4b5c1012",
   "metadata": {},
   "outputs": [],
   "source": [
    "df.head()"
   ]
  },
  {
   "cell_type": "code",
   "execution_count": null,
   "id": "939c6a44",
   "metadata": {},
   "outputs": [],
   "source": [
    "#Checking for null values again\n",
    "df.isnull().sum()"
   ]
  },
  {
   "cell_type": "code",
   "execution_count": null,
   "id": "1a2640f3",
   "metadata": {},
   "outputs": [],
   "source": [
    "#Histogram of age\n",
    "plt.hist(data['Age'], bins=6, rwidth=0.9, color=\"#ffb5a7\")\n",
    "plt.xlabel(\"Age\")\n",
    "plt.ylabel(\"Count of age demographics in dataset:\")\n",
    "\n",
    "plt.show()"
   ]
  },
  {
   "cell_type": "code",
   "execution_count": null,
   "id": "c161bbec",
   "metadata": {},
   "outputs": [],
   "source": [
    "plt.hist(data['Happy'],color = \"#bde0fe\", rwidth=0.9)"
   ]
  },
  {
   "cell_type": "code",
   "execution_count": null,
   "id": "c84a0680",
   "metadata": {},
   "outputs": [],
   "source": [
    "plt.hist(data['Gloomy'],color = \"#bde0fe\", rwidth=0.9)"
   ]
  },
  {
   "cell_type": "code",
   "execution_count": null,
   "id": "7da0bb02",
   "metadata": {},
   "outputs": [],
   "source": [
    "plt.hist(data['Stressed'],color = \"#bde0fe\", rwidth=0.9)"
   ]
  },
  {
   "cell_type": "code",
   "execution_count": null,
   "id": "e29975dd",
   "metadata": {},
   "outputs": [],
   "source": [
    "plt.hist(data['Energetic'],color = \"#bde0fe\", rwidth=0.9)"
   ]
  },
  {
   "cell_type": "code",
   "execution_count": null,
   "id": "c72eddf9",
   "metadata": {},
   "outputs": [],
   "source": [
    "plt.hist(data['Relaxing'],color = \"#bde0fe\", rwidth=0.9)"
   ]
  },
  {
   "cell_type": "code",
   "execution_count": null,
   "id": "51fba8d7",
   "metadata": {},
   "outputs": [],
   "source": [
    "#Boxplot between Age and Genre, coloured by Gender\n",
    "sns.boxplot(x='Age',y='Genre',hue='Gender',color = '#bbdef9',data=df)"
   ]
  },
  {
   "cell_type": "code",
   "execution_count": null,
   "id": "60ee7ee0",
   "metadata": {},
   "outputs": [],
   "source": [
    "#Correlation between Mood and Genre\n",
    "sns.heatmap(pd.crosstab(df['Mood'], df['Genre']))"
   ]
  },
  {
   "cell_type": "code",
   "execution_count": null,
   "id": "f44a822b",
   "metadata": {},
   "outputs": [],
   "source": [
    "#Correlation between which Genre is preferred by age groups when Happy\n",
    "sns.heatmap(pd.crosstab(data['Age'], data['Happy']))"
   ]
  },
  {
   "cell_type": "code",
   "execution_count": null,
   "id": "96a9025a",
   "metadata": {},
   "outputs": [],
   "source": [
    "#Correlation between which Genre is preferred by age groups when Gloomy\n",
    "sns.heatmap(pd.crosstab(data['Age'], data['Gloomy']))"
   ]
  },
  {
   "cell_type": "code",
   "execution_count": null,
   "id": "27eb4610",
   "metadata": {},
   "outputs": [],
   "source": [
    "#Correlation between which Genre is preferred by age groups when Stressed\n",
    "sns.heatmap(pd.crosstab(data['Age'], data['Stressed']))"
   ]
  },
  {
   "cell_type": "code",
   "execution_count": null,
   "id": "a9e9cd36",
   "metadata": {},
   "outputs": [],
   "source": [
    "#Correlation between which Genre is preferred by age groups when Relaxing\n",
    "sns.heatmap(pd.crosstab(data['Age'], data['Relaxing']))"
   ]
  },
  {
   "cell_type": "code",
   "execution_count": null,
   "id": "d7ffbe30",
   "metadata": {},
   "outputs": [],
   "source": [
    "#Correlation between which Genre is preferred by age groups when Energetic\n",
    "sns.heatmap(pd.crosstab(data['Age'], data['Energetic']))"
   ]
  },
  {
   "cell_type": "code",
   "execution_count": null,
   "id": "6a25e440",
   "metadata": {},
   "outputs": [],
   "source": [
    "#Pairplot between all numerical categories\n",
    "sns.set_style(\"whitegrid\");\n",
    "columns = ['Age','Gender','Mood']\n",
    "sns.pairplot(df[columns], hue=\"Gender\",height = 4 ,kind ='scatter',diag_kind='kde')\n",
    "plt.show()"
   ]
  },
  {
   "cell_type": "code",
   "execution_count": null,
   "id": "5bcae266",
   "metadata": {
    "scrolled": true
   },
   "outputs": [],
   "source": [
    "#Relationship analysis\n",
    "sns.heatmap(df.corr(),cbar=True, annot=True, cmap='Blues')"
   ]
  },
  {
   "cell_type": "code",
   "execution_count": null,
   "id": "ef4e888c",
   "metadata": {
    "scrolled": true
   },
   "outputs": [],
   "source": [
    "#Model testing\n",
    "#df['Mood'].replace(['Happy','Gloomy','Stressed','Energetic','Relaxing'],[0,1], inplace=True)\n",
    "X=df[['Age','Gender','Mood']]\n",
    "y=df['Genre']\n",
    "X_train,X_test,y_train,y_test=train_test_split(X.values,y,test_size = 0.25, random_state = 1000)\n",
    "model=DecisionTreeClassifier(criterion=\"entropy\")\n",
    "model=model.fit(X_train, y_train)"
   ]
  },
  {
   "cell_type": "code",
   "execution_count": null,
   "id": "8048c05a",
   "metadata": {},
   "outputs": [],
   "source": [
    "from sklearn import metrics\n",
    "#Classification accuracy can be misleading \n",
    "#if you have an unequal number of observations in each class, or if you have more than two classes in your dataset.\n",
    "print(metrics.classification_report(y_test, model.predict(X_test)))\n",
    "\n",
    "print(accuracy_score(y_test, model.predict(X_test)))\n",
    "\n",
    "print(metrics.confusion_matrix(y_test, model.predict(X_test)))"
   ]
  },
  {
   "cell_type": "code",
   "execution_count": null,
   "id": "2e2fc4f9",
   "metadata": {},
   "outputs": [],
   "source": [
    "#data normalization with sklearn\n",
    "from sklearn.preprocessing import MinMaxScaler\n",
    "\n",
    "#fit scaler on training data\n",
    "norm = MinMaxScaler().fit(X_train)\n",
    "\n",
    "#transform training data\n",
    "X_train_norm = norm.transform(X_train)\n",
    "\n",
    "#transform testing dataabs\n",
    "X_test_norm = norm.transform(X_test)\n",
    "\n",
    "from joblib import dump, load\n",
    "joblib.dump(model,'C:/Users/User/Music_Recommendation_App/MusicApp/music_predict.joblib')\n",
    "\n",
    "predictions=model.predict(X_test)"
   ]
  },
  {
   "cell_type": "code",
   "execution_count": null,
   "id": "90f783d1",
   "metadata": {},
   "outputs": [],
   "source": [
    "import pickle\n",
    "import joblib\n",
    "import pandas as pd\n",
    "from sklearn.preprocessing import MinMaxScaler\n",
    "\n",
    "sc= MinMaxScaler\n",
    "mdl = joblib.load('C:/Users/User/Music_Recommendation_App/MusicApp/music_predict.joblib')\n",
    "X= pd.read_csv('MRec.csv')\n",
    "X_test = [[21,1,0],[22,0,3],[29,0,4],[31,0,3],[55,1,3]]\n",
    "y_pred=mdl.predict(X_test)\n",
    "\n",
    "val=pd.DataFrame(y_pred, columns=['Genre'])\n",
    "val"
   ]
  },
  {
   "cell_type": "code",
   "execution_count": null,
   "id": "d6d161ce",
   "metadata": {},
   "outputs": [],
   "source": [
    "#Load saved model\n",
    "lr = joblib.load('C:/Users/User/Music_Recommendation_App/MusicApp/music_predict.joblib')\n",
    "\n",
    "X=[[21,1,0],[22,0,3],[29,0,4],[31,0,3],[55,1,3]]\n",
    "lr.predict(X)"
   ]
  },
  {
   "cell_type": "code",
   "execution_count": null,
   "id": "89033647",
   "metadata": {},
   "outputs": [],
   "source": [
    "#Outliers\n",
    "#q1=df.quantile(0.25)\n",
    "#q3=df.quantile(0.75)\n",
    "#iqr=q3-q1\n",
    "\n",
    "#print(   (df<(q1-1.5*iqr)) | (df>(q3+1.5*iqr))  )"
   ]
  }
 ],
 "metadata": {
  "kernelspec": {
   "display_name": "Python 3 (ipykernel)",
   "language": "python",
   "name": "python3"
  },
  "language_info": {
   "codemirror_mode": {
    "name": "ipython",
    "version": 3
   },
   "file_extension": ".py",
   "mimetype": "text/x-python",
   "name": "python",
   "nbconvert_exporter": "python",
   "pygments_lexer": "ipython3",
   "version": "3.9.5"
  }
 },
 "nbformat": 4,
 "nbformat_minor": 5
}
